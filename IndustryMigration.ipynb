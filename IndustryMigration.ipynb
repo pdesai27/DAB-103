{
  "nbformat": 4,
  "nbformat_minor": 0,
  "metadata": {
    "colab": {
      "name": "IndustryMigration.ipynb",
      "provenance": [],
      "toc_visible": true,
      "mount_file_id": "1OhESzYh4j59gBnrN6ffagnGP23Brl6Dl",
      "authorship_tag": "ABX9TyO3sOrbFjT+VKtK5uvD22bx",
      "include_colab_link": true
    },
    "kernelspec": {
      "name": "python3",
      "display_name": "Python 3"
    },
    "language_info": {
      "name": "python"
    }
  },
  "cells": [
    {
      "cell_type": "markdown",
      "metadata": {
        "id": "view-in-github",
        "colab_type": "text"
      },
      "source": [
        "<a href=\"https://colab.research.google.com/github/pdesai27/DAB-103/blob/main/IndustryMigration.ipynb\" target=\"_parent\"><img src=\"https://colab.research.google.com/assets/colab-badge.svg\" alt=\"Open In Colab\"/></a>"
      ]
    },
    {
      "cell_type": "markdown",
      "metadata": {
        "id": "a6WZOOshIQ8K"
      },
      "source": [
        "# Industry Migration"
      ]
    },
    {
      "cell_type": "markdown",
      "metadata": {
        "id": "vRP8dQ9uCO84"
      },
      "source": [
        "### Import packages"
      ]
    },
    {
      "cell_type": "code",
      "metadata": {
        "id": "jgc3GcjV8SlH"
      },
      "source": [
        "# Import libraries\n",
        "import pandas as pd\n",
        "import numpy as np\n",
        "import matplotlib.pyplot as plt\n",
        "import seaborn as sns"
      ],
      "execution_count": 1,
      "outputs": []
    },
    {
      "cell_type": "markdown",
      "metadata": {
        "id": "XqJkrz8vCrGt"
      },
      "source": [
        "### Loading and exploring data"
      ]
    },
    {
      "cell_type": "code",
      "metadata": {
        "id": "nzWDCW-F8nl4"
      },
      "source": [
        "# Load country migration data\n",
        "df = pd.read_csv(\"https://raw.githubusercontent.com/pdesai27/DAB-103/main/Data/CSV_%20Industry%20Migration.csv\")"
      ],
      "execution_count": 2,
      "outputs": []
    },
    {
      "cell_type": "code",
      "metadata": {
        "colab": {
          "base_uri": "https://localhost:8080/",
          "height": 496
        },
        "id": "i05dh44381a6",
        "outputId": "83b12e30-fabb-462d-add3-d523adc9c710"
      },
      "source": [
        "# Use head to display first five rows\n",
        "df.head(5)"
      ],
      "execution_count": 3,
      "outputs": [
        {
          "output_type": "execute_result",
          "data": {
            "text/html": [
              "<div>\n",
              "<style scoped>\n",
              "    .dataframe tbody tr th:only-of-type {\n",
              "        vertical-align: middle;\n",
              "    }\n",
              "\n",
              "    .dataframe tbody tr th {\n",
              "        vertical-align: top;\n",
              "    }\n",
              "\n",
              "    .dataframe thead th {\n",
              "        text-align: right;\n",
              "    }\n",
              "</style>\n",
              "<table border=\"1\" class=\"dataframe\">\n",
              "  <thead>\n",
              "    <tr style=\"text-align: right;\">\n",
              "      <th></th>\n",
              "      <th>country_code</th>\n",
              "      <th>country_name</th>\n",
              "      <th>wb_income</th>\n",
              "      <th>wb_region</th>\n",
              "      <th>isic_section_index</th>\n",
              "      <th>isic_section_name</th>\n",
              "      <th>industry_id</th>\n",
              "      <th>industry_name</th>\n",
              "      <th>net_per_10K_2015</th>\n",
              "      <th>net_per_10K_2016</th>\n",
              "      <th>net_per_10K_2017</th>\n",
              "      <th>net_per_10K_2018</th>\n",
              "      <th>net_per_10K_2019</th>\n",
              "      <th>Unnamed: 13</th>\n",
              "      <th>Unnamed: 14</th>\n",
              "      <th>Unnamed: 15</th>\n",
              "      <th>Unnamed: 16</th>\n",
              "      <th>Unnamed: 17</th>\n",
              "      <th>Unnamed: 18</th>\n",
              "      <th>Unnamed: 19</th>\n",
              "      <th>Unnamed: 20</th>\n",
              "      <th>Unnamed: 21</th>\n",
              "      <th>Unnamed: 22</th>\n",
              "      <th>Unnamed: 23</th>\n",
              "      <th>Unnamed: 24</th>\n",
              "      <th>Unnamed: 25</th>\n",
              "      <th>Unnamed: 26</th>\n",
              "      <th>Unnamed: 27</th>\n",
              "      <th>Unnamed: 28</th>\n",
              "      <th>Unnamed: 29</th>\n",
              "    </tr>\n",
              "  </thead>\n",
              "  <tbody>\n",
              "    <tr>\n",
              "      <th>0</th>\n",
              "      <td>ae</td>\n",
              "      <td>United Arab Emirates</td>\n",
              "      <td>High income</td>\n",
              "      <td>Middle East &amp; North Africa</td>\n",
              "      <td>C</td>\n",
              "      <td>Manufacturing</td>\n",
              "      <td>1</td>\n",
              "      <td>Defense &amp; Space</td>\n",
              "      <td>378.74</td>\n",
              "      <td>127.94</td>\n",
              "      <td>8.20</td>\n",
              "      <td>68.51</td>\n",
              "      <td>49.55</td>\n",
              "      <td>NaN</td>\n",
              "      <td>NaN</td>\n",
              "      <td>NaN</td>\n",
              "      <td>NaN</td>\n",
              "      <td>NaN</td>\n",
              "      <td>NaN</td>\n",
              "      <td>NaN</td>\n",
              "      <td>NaN</td>\n",
              "      <td>NaN</td>\n",
              "      <td>NaN</td>\n",
              "      <td>NaN</td>\n",
              "      <td>NaN</td>\n",
              "      <td>NaN</td>\n",
              "      <td>NaN</td>\n",
              "      <td>NaN</td>\n",
              "      <td>NaN</td>\n",
              "      <td>NaN</td>\n",
              "    </tr>\n",
              "    <tr>\n",
              "      <th>1</th>\n",
              "      <td>ae</td>\n",
              "      <td>United Arab Emirates</td>\n",
              "      <td>High income</td>\n",
              "      <td>Middle East &amp; North Africa</td>\n",
              "      <td>J</td>\n",
              "      <td>Information and communication</td>\n",
              "      <td>3</td>\n",
              "      <td>Computer Hardware</td>\n",
              "      <td>100.97</td>\n",
              "      <td>358.14</td>\n",
              "      <td>112.98</td>\n",
              "      <td>149.57</td>\n",
              "      <td>182.22</td>\n",
              "      <td>NaN</td>\n",
              "      <td>NaN</td>\n",
              "      <td>NaN</td>\n",
              "      <td>NaN</td>\n",
              "      <td>NaN</td>\n",
              "      <td>NaN</td>\n",
              "      <td>NaN</td>\n",
              "      <td>NaN</td>\n",
              "      <td>NaN</td>\n",
              "      <td>NaN</td>\n",
              "      <td>NaN</td>\n",
              "      <td>NaN</td>\n",
              "      <td>NaN</td>\n",
              "      <td>NaN</td>\n",
              "      <td>NaN</td>\n",
              "      <td>NaN</td>\n",
              "      <td>NaN</td>\n",
              "    </tr>\n",
              "    <tr>\n",
              "      <th>2</th>\n",
              "      <td>ae</td>\n",
              "      <td>United Arab Emirates</td>\n",
              "      <td>High income</td>\n",
              "      <td>Middle East &amp; North Africa</td>\n",
              "      <td>J</td>\n",
              "      <td>Information and communication</td>\n",
              "      <td>4</td>\n",
              "      <td>Computer Software</td>\n",
              "      <td>1079.36</td>\n",
              "      <td>848.15</td>\n",
              "      <td>596.48</td>\n",
              "      <td>409.18</td>\n",
              "      <td>407.41</td>\n",
              "      <td>NaN</td>\n",
              "      <td>NaN</td>\n",
              "      <td>NaN</td>\n",
              "      <td>NaN</td>\n",
              "      <td>NaN</td>\n",
              "      <td>NaN</td>\n",
              "      <td>NaN</td>\n",
              "      <td>NaN</td>\n",
              "      <td>NaN</td>\n",
              "      <td>NaN</td>\n",
              "      <td>NaN</td>\n",
              "      <td>NaN</td>\n",
              "      <td>NaN</td>\n",
              "      <td>NaN</td>\n",
              "      <td>NaN</td>\n",
              "      <td>NaN</td>\n",
              "      <td>NaN</td>\n",
              "    </tr>\n",
              "    <tr>\n",
              "      <th>3</th>\n",
              "      <td>ae</td>\n",
              "      <td>United Arab Emirates</td>\n",
              "      <td>High income</td>\n",
              "      <td>Middle East &amp; North Africa</td>\n",
              "      <td>J</td>\n",
              "      <td>Information and communication</td>\n",
              "      <td>5</td>\n",
              "      <td>Computer Networking</td>\n",
              "      <td>401.46</td>\n",
              "      <td>447.39</td>\n",
              "      <td>163.99</td>\n",
              "      <td>236.69</td>\n",
              "      <td>188.07</td>\n",
              "      <td>NaN</td>\n",
              "      <td>NaN</td>\n",
              "      <td>NaN</td>\n",
              "      <td>NaN</td>\n",
              "      <td>NaN</td>\n",
              "      <td>NaN</td>\n",
              "      <td>NaN</td>\n",
              "      <td>NaN</td>\n",
              "      <td>NaN</td>\n",
              "      <td>NaN</td>\n",
              "      <td>NaN</td>\n",
              "      <td>NaN</td>\n",
              "      <td>NaN</td>\n",
              "      <td>NaN</td>\n",
              "      <td>NaN</td>\n",
              "      <td>NaN</td>\n",
              "      <td>NaN</td>\n",
              "    </tr>\n",
              "    <tr>\n",
              "      <th>4</th>\n",
              "      <td>ae</td>\n",
              "      <td>United Arab Emirates</td>\n",
              "      <td>High income</td>\n",
              "      <td>Middle East &amp; North Africa</td>\n",
              "      <td>J</td>\n",
              "      <td>Information and communication</td>\n",
              "      <td>6</td>\n",
              "      <td>Internet</td>\n",
              "      <td>1840.33</td>\n",
              "      <td>1368.42</td>\n",
              "      <td>877.71</td>\n",
              "      <td>852.39</td>\n",
              "      <td>519.40</td>\n",
              "      <td>NaN</td>\n",
              "      <td>NaN</td>\n",
              "      <td>NaN</td>\n",
              "      <td>NaN</td>\n",
              "      <td>NaN</td>\n",
              "      <td>NaN</td>\n",
              "      <td>NaN</td>\n",
              "      <td>NaN</td>\n",
              "      <td>NaN</td>\n",
              "      <td>NaN</td>\n",
              "      <td>NaN</td>\n",
              "      <td>NaN</td>\n",
              "      <td>NaN</td>\n",
              "      <td>NaN</td>\n",
              "      <td>NaN</td>\n",
              "      <td>NaN</td>\n",
              "      <td>NaN</td>\n",
              "    </tr>\n",
              "  </tbody>\n",
              "</table>\n",
              "</div>"
            ],
            "text/plain": [
              "  country_code          country_name  ... Unnamed: 28 Unnamed: 29\n",
              "0           ae  United Arab Emirates  ...         NaN         NaN\n",
              "1           ae  United Arab Emirates  ...         NaN         NaN\n",
              "2           ae  United Arab Emirates  ...         NaN         NaN\n",
              "3           ae  United Arab Emirates  ...         NaN         NaN\n",
              "4           ae  United Arab Emirates  ...         NaN         NaN\n",
              "\n",
              "[5 rows x 30 columns]"
            ]
          },
          "metadata": {},
          "execution_count": 3
        }
      ]
    },
    {
      "cell_type": "code",
      "metadata": {
        "colab": {
          "base_uri": "https://localhost:8080/",
          "height": 411
        },
        "id": "kG8zUfBMJaiD",
        "outputId": "ea8f78d0-51f3-4875-de04-f7ce2fcec471"
      },
      "source": [
        "# Use tail to display last five rows\n",
        "df.tail(5)"
      ],
      "execution_count": 4,
      "outputs": [
        {
          "output_type": "execute_result",
          "data": {
            "text/html": [
              "<div>\n",
              "<style scoped>\n",
              "    .dataframe tbody tr th:only-of-type {\n",
              "        vertical-align: middle;\n",
              "    }\n",
              "\n",
              "    .dataframe tbody tr th {\n",
              "        vertical-align: top;\n",
              "    }\n",
              "\n",
              "    .dataframe thead th {\n",
              "        text-align: right;\n",
              "    }\n",
              "</style>\n",
              "<table border=\"1\" class=\"dataframe\">\n",
              "  <thead>\n",
              "    <tr style=\"text-align: right;\">\n",
              "      <th></th>\n",
              "      <th>country_code</th>\n",
              "      <th>country_name</th>\n",
              "      <th>wb_income</th>\n",
              "      <th>wb_region</th>\n",
              "      <th>isic_section_index</th>\n",
              "      <th>isic_section_name</th>\n",
              "      <th>industry_id</th>\n",
              "      <th>industry_name</th>\n",
              "      <th>net_per_10K_2015</th>\n",
              "      <th>net_per_10K_2016</th>\n",
              "      <th>net_per_10K_2017</th>\n",
              "      <th>net_per_10K_2018</th>\n",
              "      <th>net_per_10K_2019</th>\n",
              "      <th>Unnamed: 13</th>\n",
              "      <th>Unnamed: 14</th>\n",
              "      <th>Unnamed: 15</th>\n",
              "      <th>Unnamed: 16</th>\n",
              "      <th>Unnamed: 17</th>\n",
              "      <th>Unnamed: 18</th>\n",
              "      <th>Unnamed: 19</th>\n",
              "      <th>Unnamed: 20</th>\n",
              "      <th>Unnamed: 21</th>\n",
              "      <th>Unnamed: 22</th>\n",
              "      <th>Unnamed: 23</th>\n",
              "      <th>Unnamed: 24</th>\n",
              "      <th>Unnamed: 25</th>\n",
              "      <th>Unnamed: 26</th>\n",
              "      <th>Unnamed: 27</th>\n",
              "      <th>Unnamed: 28</th>\n",
              "      <th>Unnamed: 29</th>\n",
              "    </tr>\n",
              "  </thead>\n",
              "  <tbody>\n",
              "    <tr>\n",
              "      <th>5290</th>\n",
              "      <td>zw</td>\n",
              "      <td>Zimbabwe</td>\n",
              "      <td>Low income</td>\n",
              "      <td>Sub-Saharan Africa</td>\n",
              "      <td>B</td>\n",
              "      <td>Mining and quarrying</td>\n",
              "      <td>56</td>\n",
              "      <td>Mining &amp; Metals</td>\n",
              "      <td>257.36</td>\n",
              "      <td>187.70</td>\n",
              "      <td>-17.45</td>\n",
              "      <td>70.60</td>\n",
              "      <td>-18.30</td>\n",
              "      <td>NaN</td>\n",
              "      <td>NaN</td>\n",
              "      <td>NaN</td>\n",
              "      <td>NaN</td>\n",
              "      <td>NaN</td>\n",
              "      <td>NaN</td>\n",
              "      <td>NaN</td>\n",
              "      <td>NaN</td>\n",
              "      <td>NaN</td>\n",
              "      <td>NaN</td>\n",
              "      <td>NaN</td>\n",
              "      <td>NaN</td>\n",
              "      <td>NaN</td>\n",
              "      <td>NaN</td>\n",
              "      <td>NaN</td>\n",
              "      <td>NaN</td>\n",
              "      <td>NaN</td>\n",
              "    </tr>\n",
              "    <tr>\n",
              "      <th>5291</th>\n",
              "      <td>zw</td>\n",
              "      <td>Zimbabwe</td>\n",
              "      <td>Low income</td>\n",
              "      <td>Sub-Saharan Africa</td>\n",
              "      <td>P</td>\n",
              "      <td>Education</td>\n",
              "      <td>68</td>\n",
              "      <td>Higher Education</td>\n",
              "      <td>190.84</td>\n",
              "      <td>50.76</td>\n",
              "      <td>-68.74</td>\n",
              "      <td>-234.59</td>\n",
              "      <td>-304.36</td>\n",
              "      <td>NaN</td>\n",
              "      <td>NaN</td>\n",
              "      <td>NaN</td>\n",
              "      <td>NaN</td>\n",
              "      <td>NaN</td>\n",
              "      <td>NaN</td>\n",
              "      <td>NaN</td>\n",
              "      <td>NaN</td>\n",
              "      <td>NaN</td>\n",
              "      <td>NaN</td>\n",
              "      <td>NaN</td>\n",
              "      <td>NaN</td>\n",
              "      <td>NaN</td>\n",
              "      <td>NaN</td>\n",
              "      <td>NaN</td>\n",
              "      <td>NaN</td>\n",
              "      <td>NaN</td>\n",
              "    </tr>\n",
              "    <tr>\n",
              "      <th>5292</th>\n",
              "      <td>zw</td>\n",
              "      <td>Zimbabwe</td>\n",
              "      <td>Low income</td>\n",
              "      <td>Sub-Saharan Africa</td>\n",
              "      <td>O</td>\n",
              "      <td>Public administration and defence; compulsory ...</td>\n",
              "      <td>74</td>\n",
              "      <td>International Affairs</td>\n",
              "      <td>25.23</td>\n",
              "      <td>-46.12</td>\n",
              "      <td>214.29</td>\n",
              "      <td>311.03</td>\n",
              "      <td>-55.88</td>\n",
              "      <td>NaN</td>\n",
              "      <td>NaN</td>\n",
              "      <td>NaN</td>\n",
              "      <td>NaN</td>\n",
              "      <td>NaN</td>\n",
              "      <td>NaN</td>\n",
              "      <td>NaN</td>\n",
              "      <td>NaN</td>\n",
              "      <td>NaN</td>\n",
              "      <td>NaN</td>\n",
              "      <td>NaN</td>\n",
              "      <td>NaN</td>\n",
              "      <td>NaN</td>\n",
              "      <td>NaN</td>\n",
              "      <td>NaN</td>\n",
              "      <td>NaN</td>\n",
              "      <td>NaN</td>\n",
              "    </tr>\n",
              "    <tr>\n",
              "      <th>5293</th>\n",
              "      <td>zw</td>\n",
              "      <td>Zimbabwe</td>\n",
              "      <td>Low income</td>\n",
              "      <td>Sub-Saharan Africa</td>\n",
              "      <td>J</td>\n",
              "      <td>Information and communication</td>\n",
              "      <td>96</td>\n",
              "      <td>Information Technology &amp; Services</td>\n",
              "      <td>46.65</td>\n",
              "      <td>35.93</td>\n",
              "      <td>-142.64</td>\n",
              "      <td>-108.16</td>\n",
              "      <td>-213.82</td>\n",
              "      <td>NaN</td>\n",
              "      <td>NaN</td>\n",
              "      <td>NaN</td>\n",
              "      <td>NaN</td>\n",
              "      <td>NaN</td>\n",
              "      <td>NaN</td>\n",
              "      <td>NaN</td>\n",
              "      <td>NaN</td>\n",
              "      <td>NaN</td>\n",
              "      <td>NaN</td>\n",
              "      <td>NaN</td>\n",
              "      <td>NaN</td>\n",
              "      <td>NaN</td>\n",
              "      <td>NaN</td>\n",
              "      <td>NaN</td>\n",
              "      <td>NaN</td>\n",
              "      <td>NaN</td>\n",
              "    </tr>\n",
              "    <tr>\n",
              "      <th>5294</th>\n",
              "      <td>zw</td>\n",
              "      <td>Zimbabwe</td>\n",
              "      <td>Low income</td>\n",
              "      <td>Sub-Saharan Africa</td>\n",
              "      <td>S</td>\n",
              "      <td>Other service activities</td>\n",
              "      <td>100</td>\n",
              "      <td>Non-Profit Organization Management</td>\n",
              "      <td>133.56</td>\n",
              "      <td>88.48</td>\n",
              "      <td>6.96</td>\n",
              "      <td>-39.32</td>\n",
              "      <td>-92.51</td>\n",
              "      <td>NaN</td>\n",
              "      <td>NaN</td>\n",
              "      <td>NaN</td>\n",
              "      <td>NaN</td>\n",
              "      <td>NaN</td>\n",
              "      <td>NaN</td>\n",
              "      <td>NaN</td>\n",
              "      <td>NaN</td>\n",
              "      <td>NaN</td>\n",
              "      <td>NaN</td>\n",
              "      <td>NaN</td>\n",
              "      <td>NaN</td>\n",
              "      <td>NaN</td>\n",
              "      <td>NaN</td>\n",
              "      <td>NaN</td>\n",
              "      <td>NaN</td>\n",
              "      <td>NaN</td>\n",
              "    </tr>\n",
              "  </tbody>\n",
              "</table>\n",
              "</div>"
            ],
            "text/plain": [
              "     country_code country_name  ... Unnamed: 28 Unnamed: 29\n",
              "5290           zw     Zimbabwe  ...         NaN         NaN\n",
              "5291           zw     Zimbabwe  ...         NaN         NaN\n",
              "5292           zw     Zimbabwe  ...         NaN         NaN\n",
              "5293           zw     Zimbabwe  ...         NaN         NaN\n",
              "5294           zw     Zimbabwe  ...         NaN         NaN\n",
              "\n",
              "[5 rows x 30 columns]"
            ]
          },
          "metadata": {},
          "execution_count": 4
        }
      ]
    },
    {
      "cell_type": "code",
      "metadata": {
        "colab": {
          "base_uri": "https://localhost:8080/"
        },
        "id": "fawlW0ia87J5",
        "outputId": "8d327c92-ffaf-4b30-81bc-8e212f3dfceb"
      },
      "source": [
        "# Checking the missing values\n",
        "df.isnull().sum()"
      ],
      "execution_count": 5,
      "outputs": [
        {
          "output_type": "execute_result",
          "data": {
            "text/plain": [
              "country_code             0\n",
              "country_name             0\n",
              "wb_income                0\n",
              "wb_region                0\n",
              "isic_section_index       0\n",
              "isic_section_name        0\n",
              "industry_id              0\n",
              "industry_name            0\n",
              "net_per_10K_2015         0\n",
              "net_per_10K_2016         0\n",
              "net_per_10K_2017         0\n",
              "net_per_10K_2018         0\n",
              "net_per_10K_2019         0\n",
              "Unnamed: 13           5295\n",
              "Unnamed: 14           5295\n",
              "Unnamed: 15           5295\n",
              "Unnamed: 16           5295\n",
              "Unnamed: 17           5295\n",
              "Unnamed: 18           5295\n",
              "Unnamed: 19           5295\n",
              "Unnamed: 20           5295\n",
              "Unnamed: 21           5295\n",
              "Unnamed: 22           5295\n",
              "Unnamed: 23           5295\n",
              "Unnamed: 24           5295\n",
              "Unnamed: 25           5295\n",
              "Unnamed: 26           5295\n",
              "Unnamed: 27           5295\n",
              "Unnamed: 28           5295\n",
              "Unnamed: 29           5295\n",
              "dtype: int64"
            ]
          },
          "metadata": {},
          "execution_count": 5
        }
      ]
    },
    {
      "cell_type": "code",
      "metadata": {
        "colab": {
          "base_uri": "https://localhost:8080/"
        },
        "id": "YMxyRiJ9JjAP",
        "outputId": "3cae82a9-ae5c-4ab4-9842-fc602c6a5353"
      },
      "source": [
        "# Checking the shape of data\n",
        "df.shape"
      ],
      "execution_count": 6,
      "outputs": [
        {
          "output_type": "execute_result",
          "data": {
            "text/plain": [
              "(5295, 30)"
            ]
          },
          "metadata": {},
          "execution_count": 6
        }
      ]
    },
    {
      "cell_type": "code",
      "metadata": {
        "colab": {
          "base_uri": "https://localhost:8080/"
        },
        "id": "uO9Q8F8vJmhx",
        "outputId": "80dbe910-b7b3-44fc-a440-aa64482f17d9"
      },
      "source": [
        "# Checking the data types\n",
        "df.dtypes"
      ],
      "execution_count": 7,
      "outputs": [
        {
          "output_type": "execute_result",
          "data": {
            "text/plain": [
              "country_code           object\n",
              "country_name           object\n",
              "wb_income              object\n",
              "wb_region              object\n",
              "isic_section_index     object\n",
              "isic_section_name      object\n",
              "industry_id             int64\n",
              "industry_name          object\n",
              "net_per_10K_2015      float64\n",
              "net_per_10K_2016      float64\n",
              "net_per_10K_2017      float64\n",
              "net_per_10K_2018      float64\n",
              "net_per_10K_2019      float64\n",
              "Unnamed: 13           float64\n",
              "Unnamed: 14           float64\n",
              "Unnamed: 15           float64\n",
              "Unnamed: 16           float64\n",
              "Unnamed: 17           float64\n",
              "Unnamed: 18           float64\n",
              "Unnamed: 19           float64\n",
              "Unnamed: 20           float64\n",
              "Unnamed: 21           float64\n",
              "Unnamed: 22           float64\n",
              "Unnamed: 23           float64\n",
              "Unnamed: 24           float64\n",
              "Unnamed: 25           float64\n",
              "Unnamed: 26           float64\n",
              "Unnamed: 27           float64\n",
              "Unnamed: 28           float64\n",
              "Unnamed: 29           float64\n",
              "dtype: object"
            ]
          },
          "metadata": {},
          "execution_count": 7
        }
      ]
    },
    {
      "cell_type": "code",
      "metadata": {
        "colab": {
          "base_uri": "https://localhost:8080/"
        },
        "id": "bXeJTmjfJpvE",
        "outputId": "efb95d07-4c01-48bd-a471-a47044b3e30a"
      },
      "source": [
        "# Extract column names\n",
        "df.columns"
      ],
      "execution_count": 8,
      "outputs": [
        {
          "output_type": "execute_result",
          "data": {
            "text/plain": [
              "Index(['country_code', 'country_name', 'wb_income', 'wb_region',\n",
              "       'isic_section_index', 'isic_section_name', 'industry_id',\n",
              "       'industry_name', 'net_per_10K_2015', 'net_per_10K_2016',\n",
              "       'net_per_10K_2017', 'net_per_10K_2018', 'net_per_10K_2019',\n",
              "       'Unnamed: 13', 'Unnamed: 14', 'Unnamed: 15', 'Unnamed: 16',\n",
              "       'Unnamed: 17', 'Unnamed: 18', 'Unnamed: 19', 'Unnamed: 20',\n",
              "       'Unnamed: 21', 'Unnamed: 22', 'Unnamed: 23', 'Unnamed: 24',\n",
              "       'Unnamed: 25', 'Unnamed: 26', 'Unnamed: 27', 'Unnamed: 28',\n",
              "       'Unnamed: 29'],\n",
              "      dtype='object')"
            ]
          },
          "metadata": {},
          "execution_count": 8
        }
      ]
    },
    {
      "cell_type": "markdown",
      "metadata": {
        "id": "3UIZu92gJgW7"
      },
      "source": [
        "### Cleaning dataset"
      ]
    },
    {
      "cell_type": "code",
      "metadata": {
        "colab": {
          "base_uri": "https://localhost:8080/",
          "height": 479
        },
        "id": "jxPQBGu39GU5",
        "outputId": "f79bc876-06aa-4ed4-c35f-54de1d82a050"
      },
      "source": [
        "# Select columns 1 to 13 and drop empty columns (14 to 30).\n",
        "data = df.iloc[:,0:13]\n",
        "\n",
        "# Use head to display first ten rows\n",
        "data.head(5)"
      ],
      "execution_count": 9,
      "outputs": [
        {
          "output_type": "execute_result",
          "data": {
            "text/html": [
              "<div>\n",
              "<style scoped>\n",
              "    .dataframe tbody tr th:only-of-type {\n",
              "        vertical-align: middle;\n",
              "    }\n",
              "\n",
              "    .dataframe tbody tr th {\n",
              "        vertical-align: top;\n",
              "    }\n",
              "\n",
              "    .dataframe thead th {\n",
              "        text-align: right;\n",
              "    }\n",
              "</style>\n",
              "<table border=\"1\" class=\"dataframe\">\n",
              "  <thead>\n",
              "    <tr style=\"text-align: right;\">\n",
              "      <th></th>\n",
              "      <th>country_code</th>\n",
              "      <th>country_name</th>\n",
              "      <th>wb_income</th>\n",
              "      <th>wb_region</th>\n",
              "      <th>isic_section_index</th>\n",
              "      <th>isic_section_name</th>\n",
              "      <th>industry_id</th>\n",
              "      <th>industry_name</th>\n",
              "      <th>net_per_10K_2015</th>\n",
              "      <th>net_per_10K_2016</th>\n",
              "      <th>net_per_10K_2017</th>\n",
              "      <th>net_per_10K_2018</th>\n",
              "      <th>net_per_10K_2019</th>\n",
              "    </tr>\n",
              "  </thead>\n",
              "  <tbody>\n",
              "    <tr>\n",
              "      <th>0</th>\n",
              "      <td>ae</td>\n",
              "      <td>United Arab Emirates</td>\n",
              "      <td>High income</td>\n",
              "      <td>Middle East &amp; North Africa</td>\n",
              "      <td>C</td>\n",
              "      <td>Manufacturing</td>\n",
              "      <td>1</td>\n",
              "      <td>Defense &amp; Space</td>\n",
              "      <td>378.74</td>\n",
              "      <td>127.94</td>\n",
              "      <td>8.20</td>\n",
              "      <td>68.51</td>\n",
              "      <td>49.55</td>\n",
              "    </tr>\n",
              "    <tr>\n",
              "      <th>1</th>\n",
              "      <td>ae</td>\n",
              "      <td>United Arab Emirates</td>\n",
              "      <td>High income</td>\n",
              "      <td>Middle East &amp; North Africa</td>\n",
              "      <td>J</td>\n",
              "      <td>Information and communication</td>\n",
              "      <td>3</td>\n",
              "      <td>Computer Hardware</td>\n",
              "      <td>100.97</td>\n",
              "      <td>358.14</td>\n",
              "      <td>112.98</td>\n",
              "      <td>149.57</td>\n",
              "      <td>182.22</td>\n",
              "    </tr>\n",
              "    <tr>\n",
              "      <th>2</th>\n",
              "      <td>ae</td>\n",
              "      <td>United Arab Emirates</td>\n",
              "      <td>High income</td>\n",
              "      <td>Middle East &amp; North Africa</td>\n",
              "      <td>J</td>\n",
              "      <td>Information and communication</td>\n",
              "      <td>4</td>\n",
              "      <td>Computer Software</td>\n",
              "      <td>1079.36</td>\n",
              "      <td>848.15</td>\n",
              "      <td>596.48</td>\n",
              "      <td>409.18</td>\n",
              "      <td>407.41</td>\n",
              "    </tr>\n",
              "    <tr>\n",
              "      <th>3</th>\n",
              "      <td>ae</td>\n",
              "      <td>United Arab Emirates</td>\n",
              "      <td>High income</td>\n",
              "      <td>Middle East &amp; North Africa</td>\n",
              "      <td>J</td>\n",
              "      <td>Information and communication</td>\n",
              "      <td>5</td>\n",
              "      <td>Computer Networking</td>\n",
              "      <td>401.46</td>\n",
              "      <td>447.39</td>\n",
              "      <td>163.99</td>\n",
              "      <td>236.69</td>\n",
              "      <td>188.07</td>\n",
              "    </tr>\n",
              "    <tr>\n",
              "      <th>4</th>\n",
              "      <td>ae</td>\n",
              "      <td>United Arab Emirates</td>\n",
              "      <td>High income</td>\n",
              "      <td>Middle East &amp; North Africa</td>\n",
              "      <td>J</td>\n",
              "      <td>Information and communication</td>\n",
              "      <td>6</td>\n",
              "      <td>Internet</td>\n",
              "      <td>1840.33</td>\n",
              "      <td>1368.42</td>\n",
              "      <td>877.71</td>\n",
              "      <td>852.39</td>\n",
              "      <td>519.40</td>\n",
              "    </tr>\n",
              "  </tbody>\n",
              "</table>\n",
              "</div>"
            ],
            "text/plain": [
              "  country_code          country_name  ... net_per_10K_2018 net_per_10K_2019\n",
              "0           ae  United Arab Emirates  ...            68.51            49.55\n",
              "1           ae  United Arab Emirates  ...           149.57           182.22\n",
              "2           ae  United Arab Emirates  ...           409.18           407.41\n",
              "3           ae  United Arab Emirates  ...           236.69           188.07\n",
              "4           ae  United Arab Emirates  ...           852.39           519.40\n",
              "\n",
              "[5 rows x 13 columns]"
            ]
          },
          "metadata": {},
          "execution_count": 9
        }
      ]
    },
    {
      "cell_type": "code",
      "metadata": {
        "id": "cJ8HZ0f7PcAp",
        "outputId": "80b5685a-d367-4a9e-8961-21aafd645d3b",
        "colab": {
          "base_uri": "https://localhost:8080/",
          "height": 394
        }
      },
      "source": [
        "# Use tail to display last ten rows\n",
        "data.tail(5)"
      ],
      "execution_count": 10,
      "outputs": [
        {
          "output_type": "execute_result",
          "data": {
            "text/html": [
              "<div>\n",
              "<style scoped>\n",
              "    .dataframe tbody tr th:only-of-type {\n",
              "        vertical-align: middle;\n",
              "    }\n",
              "\n",
              "    .dataframe tbody tr th {\n",
              "        vertical-align: top;\n",
              "    }\n",
              "\n",
              "    .dataframe thead th {\n",
              "        text-align: right;\n",
              "    }\n",
              "</style>\n",
              "<table border=\"1\" class=\"dataframe\">\n",
              "  <thead>\n",
              "    <tr style=\"text-align: right;\">\n",
              "      <th></th>\n",
              "      <th>country_code</th>\n",
              "      <th>country_name</th>\n",
              "      <th>wb_income</th>\n",
              "      <th>wb_region</th>\n",
              "      <th>isic_section_index</th>\n",
              "      <th>isic_section_name</th>\n",
              "      <th>industry_id</th>\n",
              "      <th>industry_name</th>\n",
              "      <th>net_per_10K_2015</th>\n",
              "      <th>net_per_10K_2016</th>\n",
              "      <th>net_per_10K_2017</th>\n",
              "      <th>net_per_10K_2018</th>\n",
              "      <th>net_per_10K_2019</th>\n",
              "    </tr>\n",
              "  </thead>\n",
              "  <tbody>\n",
              "    <tr>\n",
              "      <th>5290</th>\n",
              "      <td>zw</td>\n",
              "      <td>Zimbabwe</td>\n",
              "      <td>Low income</td>\n",
              "      <td>Sub-Saharan Africa</td>\n",
              "      <td>B</td>\n",
              "      <td>Mining and quarrying</td>\n",
              "      <td>56</td>\n",
              "      <td>Mining &amp; Metals</td>\n",
              "      <td>257.36</td>\n",
              "      <td>187.70</td>\n",
              "      <td>-17.45</td>\n",
              "      <td>70.60</td>\n",
              "      <td>-18.30</td>\n",
              "    </tr>\n",
              "    <tr>\n",
              "      <th>5291</th>\n",
              "      <td>zw</td>\n",
              "      <td>Zimbabwe</td>\n",
              "      <td>Low income</td>\n",
              "      <td>Sub-Saharan Africa</td>\n",
              "      <td>P</td>\n",
              "      <td>Education</td>\n",
              "      <td>68</td>\n",
              "      <td>Higher Education</td>\n",
              "      <td>190.84</td>\n",
              "      <td>50.76</td>\n",
              "      <td>-68.74</td>\n",
              "      <td>-234.59</td>\n",
              "      <td>-304.36</td>\n",
              "    </tr>\n",
              "    <tr>\n",
              "      <th>5292</th>\n",
              "      <td>zw</td>\n",
              "      <td>Zimbabwe</td>\n",
              "      <td>Low income</td>\n",
              "      <td>Sub-Saharan Africa</td>\n",
              "      <td>O</td>\n",
              "      <td>Public administration and defence; compulsory ...</td>\n",
              "      <td>74</td>\n",
              "      <td>International Affairs</td>\n",
              "      <td>25.23</td>\n",
              "      <td>-46.12</td>\n",
              "      <td>214.29</td>\n",
              "      <td>311.03</td>\n",
              "      <td>-55.88</td>\n",
              "    </tr>\n",
              "    <tr>\n",
              "      <th>5293</th>\n",
              "      <td>zw</td>\n",
              "      <td>Zimbabwe</td>\n",
              "      <td>Low income</td>\n",
              "      <td>Sub-Saharan Africa</td>\n",
              "      <td>J</td>\n",
              "      <td>Information and communication</td>\n",
              "      <td>96</td>\n",
              "      <td>Information Technology &amp; Services</td>\n",
              "      <td>46.65</td>\n",
              "      <td>35.93</td>\n",
              "      <td>-142.64</td>\n",
              "      <td>-108.16</td>\n",
              "      <td>-213.82</td>\n",
              "    </tr>\n",
              "    <tr>\n",
              "      <th>5294</th>\n",
              "      <td>zw</td>\n",
              "      <td>Zimbabwe</td>\n",
              "      <td>Low income</td>\n",
              "      <td>Sub-Saharan Africa</td>\n",
              "      <td>S</td>\n",
              "      <td>Other service activities</td>\n",
              "      <td>100</td>\n",
              "      <td>Non-Profit Organization Management</td>\n",
              "      <td>133.56</td>\n",
              "      <td>88.48</td>\n",
              "      <td>6.96</td>\n",
              "      <td>-39.32</td>\n",
              "      <td>-92.51</td>\n",
              "    </tr>\n",
              "  </tbody>\n",
              "</table>\n",
              "</div>"
            ],
            "text/plain": [
              "     country_code country_name  ... net_per_10K_2018 net_per_10K_2019\n",
              "5290           zw     Zimbabwe  ...            70.60           -18.30\n",
              "5291           zw     Zimbabwe  ...          -234.59          -304.36\n",
              "5292           zw     Zimbabwe  ...           311.03           -55.88\n",
              "5293           zw     Zimbabwe  ...          -108.16          -213.82\n",
              "5294           zw     Zimbabwe  ...           -39.32           -92.51\n",
              "\n",
              "[5 rows x 13 columns]"
            ]
          },
          "metadata": {},
          "execution_count": 10
        }
      ]
    },
    {
      "cell_type": "code",
      "metadata": {
        "colab": {
          "base_uri": "https://localhost:8080/"
        },
        "id": "MYtAW0INKJr-",
        "outputId": "d0ce8a9f-9a93-4c99-b1cd-b81eaa9f4310"
      },
      "source": [
        "# Checking the shape of data\n",
        "data.shape"
      ],
      "execution_count": 11,
      "outputs": [
        {
          "output_type": "execute_result",
          "data": {
            "text/plain": [
              "(5295, 13)"
            ]
          },
          "metadata": {},
          "execution_count": 11
        }
      ]
    },
    {
      "cell_type": "code",
      "metadata": {
        "colab": {
          "base_uri": "https://localhost:8080/"
        },
        "id": "R_xW-t7-KNua",
        "outputId": "64ea3e29-51b4-4f6c-f958-1b2796e2997b"
      },
      "source": [
        "# Checking the missing values\n",
        "data.isnull().sum()"
      ],
      "execution_count": 12,
      "outputs": [
        {
          "output_type": "execute_result",
          "data": {
            "text/plain": [
              "country_code          0\n",
              "country_name          0\n",
              "wb_income             0\n",
              "wb_region             0\n",
              "isic_section_index    0\n",
              "isic_section_name     0\n",
              "industry_id           0\n",
              "industry_name         0\n",
              "net_per_10K_2015      0\n",
              "net_per_10K_2016      0\n",
              "net_per_10K_2017      0\n",
              "net_per_10K_2018      0\n",
              "net_per_10K_2019      0\n",
              "dtype: int64"
            ]
          },
          "metadata": {},
          "execution_count": 12
        }
      ]
    },
    {
      "cell_type": "code",
      "metadata": {
        "id": "HPVg-Bl7PfRQ",
        "outputId": "9172bd86-3483-43b2-c29d-9614a9c12ad0",
        "colab": {
          "base_uri": "https://localhost:8080/"
        }
      },
      "source": [
        "# Check unique values\n",
        "data.nunique()"
      ],
      "execution_count": 13,
      "outputs": [
        {
          "output_type": "execute_result",
          "data": {
            "text/plain": [
              "country_code           137\n",
              "country_name           137\n",
              "wb_income                4\n",
              "wb_region                7\n",
              "isic_section_index      19\n",
              "isic_section_name       19\n",
              "industry_id            143\n",
              "industry_name          143\n",
              "net_per_10K_2015      4951\n",
              "net_per_10K_2016      4957\n",
              "net_per_10K_2017      4954\n",
              "net_per_10K_2018      4938\n",
              "net_per_10K_2019      4950\n",
              "dtype: int64"
            ]
          },
          "metadata": {},
          "execution_count": 13
        }
      ]
    },
    {
      "cell_type": "markdown",
      "metadata": {
        "id": "6Rps-6HvKRIS"
      },
      "source": [
        "### Preliminary visualization"
      ]
    },
    {
      "cell_type": "code",
      "metadata": {
        "colab": {
          "base_uri": "https://localhost:8080/",
          "height": 733
        },
        "id": "X9Iq6yAZ9rXk",
        "outputId": "9a1c45c0-ae97-40f8-8633-82c0fb9b42d7"
      },
      "source": [
        "# Distribution of net industry migration for 2015\n",
        "plt.figure(figsize=(16,10), dpi= 80)\n",
        "plt.hist(x='net_per_10K_2015', data=data, bins=25)\n",
        "\n",
        "# Decoration\n",
        "plt.title('Distribution of net industry migration for 2015\\n', fontsize=22)\n",
        "plt.xlabel('Net migration', fontsize = 16)\n",
        "plt.ylabel('Count', fontsize = 16)\n",
        "plt.xticks(fontsize= 11)\n",
        "plt.yticks(fontsize= 11)\n",
        "plt.show()"
      ],
      "execution_count": 14,
      "outputs": [
        {
          "output_type": "display_data",
          "data": {
            "image/png": "[encoded data removed]",
            "text/plain": [
              "<Figure size 1280x800 with 1 Axes>"
            ]
          },
          "metadata": {
            "needs_background": "light"
          }
        }
      ]
    },
    {
      "cell_type": "code",
      "metadata": {
        "colab": {
          "base_uri": "https://localhost:8080/",
          "height": 733
        },
        "id": "epmw7SkfO_Bw",
        "outputId": "fd5a2c2b-c55e-45b0-e400-906f8e8fd35f"
      },
      "source": [
        "# Distribution of net industry migration for 2015\n",
        "plt.figure(figsize=(16,10), dpi= 80)\n",
        "plt.hist(x='net_per_10K_2019', data=data, bins=30)\n",
        "\n",
        "# Decoration\n",
        "plt.title('Distribution of net industry migration for 2019\\n', fontsize=22)\n",
        "plt.xlabel('Net migration', fontsize = 16)\n",
        "plt.ylabel('Count', fontsize = 16)\n",
        "plt.xticks(fontsize= 11)\n",
        "plt.yticks(fontsize= 11)\n",
        "plt.show()"
      ],
      "execution_count": 15,
      "outputs": [
        {
          "output_type": "display_data",
          "data": {
            "image/png": "[encoded data removed]",
            "text/plain": [
              "<Figure size 1280x800 with 1 Axes>"
            ]
          },
          "metadata": {
            "needs_background": "light"
          }
        }
      ]
    },
    {
      "cell_type": "code",
      "metadata": {
        "colab": {
          "base_uri": "https://localhost:8080/"
        },
        "id": "V8WJGbHpA-OB",
        "outputId": "489d0a82-f38a-4395-8fa4-9793849094cf"
      },
      "source": [
        "# Most popular industries for the given time period (2015-2019)\n",
        "top_indust = data['industry_name'].value_counts()\n",
        "top_indust"
      ],
      "execution_count": 16,
      "outputs": [
        {
          "output_type": "execute_result",
          "data": {
            "text/plain": [
              "Information Technology & Services    118\n",
              "Higher Education                     114\n",
              "Telecommunications                   104\n",
              "Oil & Energy                         100\n",
              "Banking                              100\n",
              "                                    ... \n",
              "Fundraising                            4\n",
              "Libraries                              1\n",
              "Warehousing                            1\n",
              "Legislative Office                     1\n",
              "Nanotechnology                         1\n",
              "Name: industry_name, Length: 143, dtype: int64"
            ]
          },
          "metadata": {},
          "execution_count": 16
        }
      ]
    },
    {
      "cell_type": "code",
      "metadata": {
        "colab": {
          "base_uri": "https://localhost:8080/",
          "height": 847
        },
        "id": "H1Ojyei1DOVj",
        "outputId": "c662c7a1-37be-42aa-a5af-b2086d8e804f"
      },
      "source": [
        "# Filtering dataset for popular industries\n",
        "x = data[(data['industry_name'] == 'Information Technology & Services') | (data['industry_name'] == 'Higher Education') | (data['industry_name'] == 'Telecommunications') | (data['industry_name'] == 'Oil & Energy') | (data['industry_name'] == 'Banking')].sort_values(by = 'industry_name', ascending=True)\n",
        "x"
      ],
      "execution_count": 17,
      "outputs": [
        {
          "output_type": "execute_result",
          "data": {
            "text/html": [
              "<div>\n",
              "<style scoped>\n",
              "    .dataframe tbody tr th:only-of-type {\n",
              "        vertical-align: middle;\n",
              "    }\n",
              "\n",
              "    .dataframe tbody tr th {\n",
              "        vertical-align: top;\n",
              "    }\n",
              "\n",
              "    .dataframe thead th {\n",
              "        text-align: right;\n",
              "    }\n",
              "</style>\n",
              "<table border=\"1\" class=\"dataframe\">\n",
              "  <thead>\n",
              "    <tr style=\"text-align: right;\">\n",
              "      <th></th>\n",
              "      <th>country_code</th>\n",
              "      <th>country_name</th>\n",
              "      <th>wb_income</th>\n",
              "      <th>wb_region</th>\n",
              "      <th>isic_section_index</th>\n",
              "      <th>isic_section_name</th>\n",
              "      <th>industry_id</th>\n",
              "      <th>industry_name</th>\n",
              "      <th>net_per_10K_2015</th>\n",
              "      <th>net_per_10K_2016</th>\n",
              "      <th>net_per_10K_2017</th>\n",
              "      <th>net_per_10K_2018</th>\n",
              "      <th>net_per_10K_2019</th>\n",
              "    </tr>\n",
              "  </thead>\n",
              "  <tbody>\n",
              "    <tr>\n",
              "      <th>2113</th>\n",
              "      <td>ge</td>\n",
              "      <td>Georgia</td>\n",
              "      <td>Lower middle income</td>\n",
              "      <td>Europe &amp; Central Asia</td>\n",
              "      <td>K</td>\n",
              "      <td>Financial and insurance activities</td>\n",
              "      <td>41</td>\n",
              "      <td>Banking</td>\n",
              "      <td>25.43</td>\n",
              "      <td>30.86</td>\n",
              "      <td>-29.46</td>\n",
              "      <td>29.76</td>\n",
              "      <td>5.86</td>\n",
              "    </tr>\n",
              "    <tr>\n",
              "      <th>4675</th>\n",
              "      <td>sy</td>\n",
              "      <td>Syrian Arab Republic</td>\n",
              "      <td>Low income</td>\n",
              "      <td>Middle East &amp; North Africa</td>\n",
              "      <td>K</td>\n",
              "      <td>Financial and insurance activities</td>\n",
              "      <td>41</td>\n",
              "      <td>Banking</td>\n",
              "      <td>-614.99</td>\n",
              "      <td>-748.27</td>\n",
              "      <td>-505.96</td>\n",
              "      <td>-322.01</td>\n",
              "      <td>-193.48</td>\n",
              "    </tr>\n",
              "    <tr>\n",
              "      <th>1693</th>\n",
              "      <td>es</td>\n",
              "      <td>Spain</td>\n",
              "      <td>High income</td>\n",
              "      <td>Europe &amp; Central Asia</td>\n",
              "      <td>K</td>\n",
              "      <td>Financial and insurance activities</td>\n",
              "      <td>41</td>\n",
              "      <td>Banking</td>\n",
              "      <td>-10.30</td>\n",
              "      <td>22.75</td>\n",
              "      <td>29.44</td>\n",
              "      <td>38.08</td>\n",
              "      <td>53.82</td>\n",
              "    </tr>\n",
              "    <tr>\n",
              "      <th>1805</th>\n",
              "      <td>fi</td>\n",
              "      <td>Finland</td>\n",
              "      <td>High income</td>\n",
              "      <td>Europe &amp; Central Asia</td>\n",
              "      <td>K</td>\n",
              "      <td>Financial and insurance activities</td>\n",
              "      <td>41</td>\n",
              "      <td>Banking</td>\n",
              "      <td>2.33</td>\n",
              "      <td>13.75</td>\n",
              "      <td>11.81</td>\n",
              "      <td>3.07</td>\n",
              "      <td>64.16</td>\n",
              "    </tr>\n",
              "    <tr>\n",
              "      <th>1877</th>\n",
              "      <td>fr</td>\n",
              "      <td>France</td>\n",
              "      <td>High income</td>\n",
              "      <td>Europe &amp; Central Asia</td>\n",
              "      <td>K</td>\n",
              "      <td>Financial and insurance activities</td>\n",
              "      <td>41</td>\n",
              "      <td>Banking</td>\n",
              "      <td>-55.81</td>\n",
              "      <td>-35.39</td>\n",
              "      <td>11.93</td>\n",
              "      <td>7.60</td>\n",
              "      <td>5.35</td>\n",
              "    </tr>\n",
              "    <tr>\n",
              "      <th>...</th>\n",
              "      <td>...</td>\n",
              "      <td>...</td>\n",
              "      <td>...</td>\n",
              "      <td>...</td>\n",
              "      <td>...</td>\n",
              "      <td>...</td>\n",
              "      <td>...</td>\n",
              "      <td>...</td>\n",
              "      <td>...</td>\n",
              "      <td>...</td>\n",
              "      <td>...</td>\n",
              "      <td>...</td>\n",
              "      <td>...</td>\n",
              "    </tr>\n",
              "    <tr>\n",
              "      <th>2654</th>\n",
              "      <td>iq</td>\n",
              "      <td>Iraq</td>\n",
              "      <td>Upper middle income</td>\n",
              "      <td>Middle East &amp; North Africa</td>\n",
              "      <td>J</td>\n",
              "      <td>Information and communication</td>\n",
              "      <td>8</td>\n",
              "      <td>Telecommunications</td>\n",
              "      <td>23.68</td>\n",
              "      <td>-148.03</td>\n",
              "      <td>-157.05</td>\n",
              "      <td>-87.85</td>\n",
              "      <td>-38.84</td>\n",
              "    </tr>\n",
              "    <tr>\n",
              "      <th>2670</th>\n",
              "      <td>ir</td>\n",
              "      <td>Iran, Islamic Rep.</td>\n",
              "      <td>Upper middle income</td>\n",
              "      <td>Middle East &amp; North Africa</td>\n",
              "      <td>J</td>\n",
              "      <td>Information and communication</td>\n",
              "      <td>8</td>\n",
              "      <td>Telecommunications</td>\n",
              "      <td>46.43</td>\n",
              "      <td>48.27</td>\n",
              "      <td>-55.54</td>\n",
              "      <td>-137.65</td>\n",
              "      <td>-274.17</td>\n",
              "    </tr>\n",
              "    <tr>\n",
              "      <th>4323</th>\n",
              "      <td>rs</td>\n",
              "      <td>Serbia</td>\n",
              "      <td>Upper middle income</td>\n",
              "      <td>Europe &amp; Central Asia</td>\n",
              "      <td>J</td>\n",
              "      <td>Information and communication</td>\n",
              "      <td>8</td>\n",
              "      <td>Telecommunications</td>\n",
              "      <td>-7.67</td>\n",
              "      <td>-53.89</td>\n",
              "      <td>-62.38</td>\n",
              "      <td>-98.13</td>\n",
              "      <td>-77.85</td>\n",
              "    </tr>\n",
              "    <tr>\n",
              "      <th>2820</th>\n",
              "      <td>jm</td>\n",
              "      <td>Jamaica</td>\n",
              "      <td>Upper middle income</td>\n",
              "      <td>Latin America &amp; Caribbean</td>\n",
              "      <td>J</td>\n",
              "      <td>Information and communication</td>\n",
              "      <td>8</td>\n",
              "      <td>Telecommunications</td>\n",
              "      <td>-72.75</td>\n",
              "      <td>-59.25</td>\n",
              "      <td>-285.81</td>\n",
              "      <td>-118.68</td>\n",
              "      <td>-184.21</td>\n",
              "    </tr>\n",
              "    <tr>\n",
              "      <th>5</th>\n",
              "      <td>ae</td>\n",
              "      <td>United Arab Emirates</td>\n",
              "      <td>High income</td>\n",
              "      <td>Middle East &amp; North Africa</td>\n",
              "      <td>J</td>\n",
              "      <td>Information and communication</td>\n",
              "      <td>8</td>\n",
              "      <td>Telecommunications</td>\n",
              "      <td>676.91</td>\n",
              "      <td>676.11</td>\n",
              "      <td>365.96</td>\n",
              "      <td>283.59</td>\n",
              "      <td>281.91</td>\n",
              "    </tr>\n",
              "  </tbody>\n",
              "</table>\n",
              "<p>536 rows × 13 columns</p>\n",
              "</div>"
            ],
            "text/plain": [
              "     country_code          country_name  ... net_per_10K_2018 net_per_10K_2019\n",
              "2113           ge               Georgia  ...            29.76             5.86\n",
              "4675           sy  Syrian Arab Republic  ...          -322.01          -193.48\n",
              "1693           es                 Spain  ...            38.08            53.82\n",
              "1805           fi               Finland  ...             3.07            64.16\n",
              "1877           fr                France  ...             7.60             5.35\n",
              "...           ...                   ...  ...              ...              ...\n",
              "2654           iq                  Iraq  ...           -87.85           -38.84\n",
              "2670           ir    Iran, Islamic Rep.  ...          -137.65          -274.17\n",
              "4323           rs                Serbia  ...           -98.13           -77.85\n",
              "2820           jm               Jamaica  ...          -118.68          -184.21\n",
              "5              ae  United Arab Emirates  ...           283.59           281.91\n",
              "\n",
              "[536 rows x 13 columns]"
            ]
          },
          "metadata": {},
          "execution_count": 17
        }
      ]
    },
    {
      "cell_type": "code",
      "metadata": {
        "colab": {
          "base_uri": "https://localhost:8080/",
          "height": 733
        },
        "id": "09GIHgMFBxK7",
        "outputId": "59107c01-8c77-4758-f522-7f51a74c5592"
      },
      "source": [
        "# Distribution of net migration in 2015 for top five popular industries\n",
        "plt.figure(figsize=(16,10), dpi= 80)\n",
        "sns.boxplot(x = 'industry_name', y = 'net_per_10K_2015', data = x, whis=10)\n",
        "\n",
        "# Decoration\n",
        "plt.title('Net migration in 2015 for popular industries\\n', fontsize = 22)\n",
        "plt.xlabel('Industry', fontsize = 16)\n",
        "plt.ylabel('Net migration per 10K in 2015', fontsize = 16)\n",
        "plt.xticks(fontsize= 11)\n",
        "plt.yticks(fontsize= 11)\n",
        "plt.show()"
      ],
      "execution_count": 18,
      "outputs": [
        {
          "output_type": "display_data",
          "data": {
            "image/png": "[encoded data removed]",
            "text/plain": [
              "<Figure size 1280x800 with 1 Axes>"
            ]
          },
          "metadata": {
            "needs_background": "light"
          }
        }
      ]
    },
    {
      "cell_type": "code",
      "metadata": {
        "colab": {
          "base_uri": "https://localhost:8080/",
          "height": 733
        },
        "id": "MAlhR0o4ScjT",
        "outputId": "8a5e7249-3014-4c02-b963-3760e002ec9e"
      },
      "source": [
        "# Distribution of net migration in 2019 for top five popular industries in 2019 \n",
        "plt.figure(figsize=(16,10), dpi= 80)\n",
        "sns.boxplot(x = 'industry_name', y = 'net_per_10K_2019', data = x, whis=10)\n",
        "\n",
        "# Decoration\n",
        "plt.title('Net migration in 2019 for popular industries\\n', fontsize = 22)\n",
        "plt.xlabel('Industry', fontsize = 16)\n",
        "plt.ylabel('Net migration per 10K in 2019', fontsize = 16)\n",
        "plt.xticks(fontsize= 11)\n",
        "plt.yticks(fontsize= 11)\n",
        "plt.show()"
      ],
      "execution_count": 20,
      "outputs": [
        {
          "output_type": "display_data",
          "data": {
            "image/png": "[encoded data removed]",
            "text/plain": [
              "<Figure size 1280x800 with 1 Axes>"
            ]
          },
          "metadata": {
            "needs_background": "light"
          }
        }
      ]
    }
  ]
}