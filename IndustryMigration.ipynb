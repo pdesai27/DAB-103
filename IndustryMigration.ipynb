{
  "nbformat": 4,
  "nbformat_minor": 0,
  "metadata": {
    "colab": {
      "name": "IndustryMigration.ipynb",
      "provenance": [],
      "toc_visible": true,
      "mount_file_id": "1OhESzYh4j59gBnrN6ffagnGP23Brl6Dl",
      "authorship_tag": "ABX9TyN7xDI0umyGKR/bRV5TgQtn",
      "include_colab_link": true
    },
    "kernelspec": {
      "name": "python3",
      "display_name": "Python 3"
    },
    "language_info": {
      "name": "python"
    }
  },
  "cells": [
    {
      "cell_type": "markdown",
      "metadata": {
        "id": "view-in-github",
        "colab_type": "text"
      },
      "source": [
        "<a href=\"https://colab.research.google.com/github/pdesai27/DAB-103/blob/main/IndustryMigration.ipynb\" target=\"_parent\"><img src=\"https://colab.research.google.com/assets/colab-badge.svg\" alt=\"Open In Colab\"/></a>"
      ]
    },
    {
      "cell_type": "markdown",
      "metadata": {
        "id": "a6WZOOshIQ8K"
      },
      "source": [
        "# Industry Migration"
      ]
    },
    {
      "cell_type": "markdown",
      "metadata": {
        "id": "vRP8dQ9uCO84"
      },
      "source": [
        "### Import packages"
      ]
    },
    {
      "cell_type": "code",
      "metadata": {
        "id": "jgc3GcjV8SlH"
      },
      "source": [
        "# Import libraries\n",
        "import pandas as pd\n",
        "import numpy as np\n",
        "import matplotlib.pyplot as plt\n",
        "import seaborn as sns"
      ],
      "execution_count": null,
      "outputs": []
    },
    {
      "cell_type": "markdown",
      "metadata": {
        "id": "XqJkrz8vCrGt"
      },
      "source": [
        "### Loading and exploring data"
      ]
    },
    {
      "cell_type": "code",
      "metadata": {
        "id": "nzWDCW-F8nl4"
      },
      "source": [
        "# Load country migration data\n",
        "df = pd.read_csv(\"https://raw.githubusercontent.com/pdesai27/DAB-103/main/Data/CSV_%20Industry%20Migration.csv\")"
      ],
      "execution_count": null,
      "outputs": []
    },
    {
      "cell_type": "code",
      "metadata": {
        "colab": {
          "base_uri": "https://localhost:8080/",
          "height": 496
        },
        "id": "i05dh44381a6",
        "outputId": "0b167877-2446-44eb-a7be-e26d02f4f099"
      },
      "source": [
        "# Use head to display first five rows\n",
        "df.head(5)"
      ],
      "execution_count": null,
      "outputs": [
        {
          "output_type": "execute_result",
          "data": {
            "text/html": [
              "<div>\n",
              "<style scoped>\n",
              "    .dataframe tbody tr th:only-of-type {\n",
              "        vertical-align: middle;\n",
              "    }\n",
              "\n",
              "    .dataframe tbody tr th {\n",
              "        vertical-align: top;\n",
              "    }\n",
              "\n",
              "    .dataframe thead th {\n",
              "        text-align: right;\n",
              "    }\n",
              "</style>\n",
              "<table border=\"1\" class=\"dataframe\">\n",
              "  <thead>\n",
              "    <tr style=\"text-align: right;\">\n",
              "      <th></th>\n",
              "      <th>country_code</th>\n",
              "      <th>country_name</th>\n",
              "      <th>wb_income</th>\n",
              "      <th>wb_region</th>\n",
              "      <th>isic_section_index</th>\n",
              "      <th>isic_section_name</th>\n",
              "      <th>industry_id</th>\n",
              "      <th>industry_name</th>\n",
              "      <th>net_per_10K_2015</th>\n",
              "      <th>net_per_10K_2016</th>\n",
              "      <th>net_per_10K_2017</th>\n",
              "      <th>net_per_10K_2018</th>\n",
              "      <th>net_per_10K_2019</th>\n",
              "      <th>Unnamed: 13</th>\n",
              "      <th>Unnamed: 14</th>\n",
              "      <th>Unnamed: 15</th>\n",
              "      <th>Unnamed: 16</th>\n",
              "      <th>Unnamed: 17</th>\n",
              "      <th>Unnamed: 18</th>\n",
              "      <th>Unnamed: 19</th>\n",
              "      <th>Unnamed: 20</th>\n",
              "      <th>Unnamed: 21</th>\n",
              "      <th>Unnamed: 22</th>\n",
              "      <th>Unnamed: 23</th>\n",
              "      <th>Unnamed: 24</th>\n",
              "      <th>Unnamed: 25</th>\n",
              "      <th>Unnamed: 26</th>\n",
              "      <th>Unnamed: 27</th>\n",
              "      <th>Unnamed: 28</th>\n",
              "      <th>Unnamed: 29</th>\n",
              "    </tr>\n",
              "  </thead>\n",
              "  <tbody>\n",
              "    <tr>\n",
              "      <th>0</th>\n",
              "      <td>ae</td>\n",
              "      <td>United Arab Emirates</td>\n",
              "      <td>High income</td>\n",
              "      <td>Middle East &amp; North Africa</td>\n",
              "      <td>C</td>\n",
              "      <td>Manufacturing</td>\n",
              "      <td>1</td>\n",
              "      <td>Defense &amp; Space</td>\n",
              "      <td>378.74</td>\n",
              "      <td>127.94</td>\n",
              "      <td>8.20</td>\n",
              "      <td>68.51</td>\n",
              "      <td>49.55</td>\n",
              "      <td>NaN</td>\n",
              "      <td>NaN</td>\n",
              "      <td>NaN</td>\n",
              "      <td>NaN</td>\n",
              "      <td>NaN</td>\n",
              "      <td>NaN</td>\n",
              "      <td>NaN</td>\n",
              "      <td>NaN</td>\n",
              "      <td>NaN</td>\n",
              "      <td>NaN</td>\n",
              "      <td>NaN</td>\n",
              "      <td>NaN</td>\n",
              "      <td>NaN</td>\n",
              "      <td>NaN</td>\n",
              "      <td>NaN</td>\n",
              "      <td>NaN</td>\n",
              "      <td>NaN</td>\n",
              "    </tr>\n",
              "    <tr>\n",
              "      <th>1</th>\n",
              "      <td>ae</td>\n",
              "      <td>United Arab Emirates</td>\n",
              "      <td>High income</td>\n",
              "      <td>Middle East &amp; North Africa</td>\n",
              "      <td>J</td>\n",
              "      <td>Information and communication</td>\n",
              "      <td>3</td>\n",
              "      <td>Computer Hardware</td>\n",
              "      <td>100.97</td>\n",
              "      <td>358.14</td>\n",
              "      <td>112.98</td>\n",
              "      <td>149.57</td>\n",
              "      <td>182.22</td>\n",
              "      <td>NaN</td>\n",
              "      <td>NaN</td>\n",
              "      <td>NaN</td>\n",
              "      <td>NaN</td>\n",
              "      <td>NaN</td>\n",
              "      <td>NaN</td>\n",
              "      <td>NaN</td>\n",
              "      <td>NaN</td>\n",
              "      <td>NaN</td>\n",
              "      <td>NaN</td>\n",
              "      <td>NaN</td>\n",
              "      <td>NaN</td>\n",
              "      <td>NaN</td>\n",
              "      <td>NaN</td>\n",
              "      <td>NaN</td>\n",
              "      <td>NaN</td>\n",
              "      <td>NaN</td>\n",
              "    </tr>\n",
              "    <tr>\n",
              "      <th>2</th>\n",
              "      <td>ae</td>\n",
              "      <td>United Arab Emirates</td>\n",
              "      <td>High income</td>\n",
              "      <td>Middle East &amp; North Africa</td>\n",
              "      <td>J</td>\n",
              "      <td>Information and communication</td>\n",
              "      <td>4</td>\n",
              "      <td>Computer Software</td>\n",
              "      <td>1079.36</td>\n",
              "      <td>848.15</td>\n",
              "      <td>596.48</td>\n",
              "      <td>409.18</td>\n",
              "      <td>407.41</td>\n",
              "      <td>NaN</td>\n",
              "      <td>NaN</td>\n",
              "      <td>NaN</td>\n",
              "      <td>NaN</td>\n",
              "      <td>NaN</td>\n",
              "      <td>NaN</td>\n",
              "      <td>NaN</td>\n",
              "      <td>NaN</td>\n",
              "      <td>NaN</td>\n",
              "      <td>NaN</td>\n",
              "      <td>NaN</td>\n",
              "      <td>NaN</td>\n",
              "      <td>NaN</td>\n",
              "      <td>NaN</td>\n",
              "      <td>NaN</td>\n",
              "      <td>NaN</td>\n",
              "      <td>NaN</td>\n",
              "    </tr>\n",
              "    <tr>\n",
              "      <th>3</th>\n",
              "      <td>ae</td>\n",
              "      <td>United Arab Emirates</td>\n",
              "      <td>High income</td>\n",
              "      <td>Middle East &amp; North Africa</td>\n",
              "      <td>J</td>\n",
              "      <td>Information and communication</td>\n",
              "      <td>5</td>\n",
              "      <td>Computer Networking</td>\n",
              "      <td>401.46</td>\n",
              "      <td>447.39</td>\n",
              "      <td>163.99</td>\n",
              "      <td>236.69</td>\n",
              "      <td>188.07</td>\n",
              "      <td>NaN</td>\n",
              "      <td>NaN</td>\n",
              "      <td>NaN</td>\n",
              "      <td>NaN</td>\n",
              "      <td>NaN</td>\n",
              "      <td>NaN</td>\n",
              "      <td>NaN</td>\n",
              "      <td>NaN</td>\n",
              "      <td>NaN</td>\n",
              "      <td>NaN</td>\n",
              "      <td>NaN</td>\n",
              "      <td>NaN</td>\n",
              "      <td>NaN</td>\n",
              "      <td>NaN</td>\n",
              "      <td>NaN</td>\n",
              "      <td>NaN</td>\n",
              "      <td>NaN</td>\n",
              "    </tr>\n",
              "    <tr>\n",
              "      <th>4</th>\n",
              "      <td>ae</td>\n",
              "      <td>United Arab Emirates</td>\n",
              "      <td>High income</td>\n",
              "      <td>Middle East &amp; North Africa</td>\n",
              "      <td>J</td>\n",
              "      <td>Information and communication</td>\n",
              "      <td>6</td>\n",
              "      <td>Internet</td>\n",
              "      <td>1840.33</td>\n",
              "      <td>1368.42</td>\n",
              "      <td>877.71</td>\n",
              "      <td>852.39</td>\n",
              "      <td>519.40</td>\n",
              "      <td>NaN</td>\n",
              "      <td>NaN</td>\n",
              "      <td>NaN</td>\n",
              "      <td>NaN</td>\n",
              "      <td>NaN</td>\n",
              "      <td>NaN</td>\n",
              "      <td>NaN</td>\n",
              "      <td>NaN</td>\n",
              "      <td>NaN</td>\n",
              "      <td>NaN</td>\n",
              "      <td>NaN</td>\n",
              "      <td>NaN</td>\n",
              "      <td>NaN</td>\n",
              "      <td>NaN</td>\n",
              "      <td>NaN</td>\n",
              "      <td>NaN</td>\n",
              "      <td>NaN</td>\n",
              "    </tr>\n",
              "  </tbody>\n",
              "</table>\n",
              "</div>"
            ],
            "text/plain": [
              "  country_code          country_name  ... Unnamed: 28 Unnamed: 29\n",
              "0           ae  United Arab Emirates  ...         NaN         NaN\n",
              "1           ae  United Arab Emirates  ...         NaN         NaN\n",
              "2           ae  United Arab Emirates  ...         NaN         NaN\n",
              "3           ae  United Arab Emirates  ...         NaN         NaN\n",
              "4           ae  United Arab Emirates  ...         NaN         NaN\n",
              "\n",
              "[5 rows x 30 columns]"
            ]
          },
          "metadata": {},
          "execution_count": 4
        }
      ]
    },
    {
      "cell_type": "code",
      "metadata": {
        "colab": {
          "base_uri": "https://localhost:8080/",
          "height": 411
        },
        "id": "kG8zUfBMJaiD",
        "outputId": "0555b415-4611-497e-ce97-1a2f8372d20b"
      },
      "source": [
        "# Use tail to display last five rows\n",
        "df.tail(5)"
      ],
      "execution_count": null,
      "outputs": [
        {
          "output_type": "execute_result",
          "data": {
            "text/html": [
              "<div>\n",
              "<style scoped>\n",
              "    .dataframe tbody tr th:only-of-type {\n",
              "        vertical-align: middle;\n",
              "    }\n",
              "\n",
              "    .dataframe tbody tr th {\n",
              "        vertical-align: top;\n",
              "    }\n",
              "\n",
              "    .dataframe thead th {\n",
              "        text-align: right;\n",
              "    }\n",
              "</style>\n",
              "<table border=\"1\" class=\"dataframe\">\n",
              "  <thead>\n",
              "    <tr style=\"text-align: right;\">\n",
              "      <th></th>\n",
              "      <th>country_code</th>\n",
              "      <th>country_name</th>\n",
              "      <th>wb_income</th>\n",
              "      <th>wb_region</th>\n",
              "      <th>isic_section_index</th>\n",
              "      <th>isic_section_name</th>\n",
              "      <th>industry_id</th>\n",
              "      <th>industry_name</th>\n",
              "      <th>net_per_10K_2015</th>\n",
              "      <th>net_per_10K_2016</th>\n",
              "      <th>net_per_10K_2017</th>\n",
              "      <th>net_per_10K_2018</th>\n",
              "      <th>net_per_10K_2019</th>\n",
              "      <th>Unnamed: 13</th>\n",
              "      <th>Unnamed: 14</th>\n",
              "      <th>Unnamed: 15</th>\n",
              "      <th>Unnamed: 16</th>\n",
              "      <th>Unnamed: 17</th>\n",
              "      <th>Unnamed: 18</th>\n",
              "      <th>Unnamed: 19</th>\n",
              "      <th>Unnamed: 20</th>\n",
              "      <th>Unnamed: 21</th>\n",
              "      <th>Unnamed: 22</th>\n",
              "      <th>Unnamed: 23</th>\n",
              "      <th>Unnamed: 24</th>\n",
              "      <th>Unnamed: 25</th>\n",
              "      <th>Unnamed: 26</th>\n",
              "      <th>Unnamed: 27</th>\n",
              "      <th>Unnamed: 28</th>\n",
              "      <th>Unnamed: 29</th>\n",
              "    </tr>\n",
              "  </thead>\n",
              "  <tbody>\n",
              "    <tr>\n",
              "      <th>5290</th>\n",
              "      <td>zw</td>\n",
              "      <td>Zimbabwe</td>\n",
              "      <td>Low income</td>\n",
              "      <td>Sub-Saharan Africa</td>\n",
              "      <td>B</td>\n",
              "      <td>Mining and quarrying</td>\n",
              "      <td>56</td>\n",
              "      <td>Mining &amp; Metals</td>\n",
              "      <td>257.36</td>\n",
              "      <td>187.70</td>\n",
              "      <td>-17.45</td>\n",
              "      <td>70.60</td>\n",
              "      <td>-18.30</td>\n",
              "      <td>NaN</td>\n",
              "      <td>NaN</td>\n",
              "      <td>NaN</td>\n",
              "      <td>NaN</td>\n",
              "      <td>NaN</td>\n",
              "      <td>NaN</td>\n",
              "      <td>NaN</td>\n",
              "      <td>NaN</td>\n",
              "      <td>NaN</td>\n",
              "      <td>NaN</td>\n",
              "      <td>NaN</td>\n",
              "      <td>NaN</td>\n",
              "      <td>NaN</td>\n",
              "      <td>NaN</td>\n",
              "      <td>NaN</td>\n",
              "      <td>NaN</td>\n",
              "      <td>NaN</td>\n",
              "    </tr>\n",
              "    <tr>\n",
              "      <th>5291</th>\n",
              "      <td>zw</td>\n",
              "      <td>Zimbabwe</td>\n",
              "      <td>Low income</td>\n",
              "      <td>Sub-Saharan Africa</td>\n",
              "      <td>P</td>\n",
              "      <td>Education</td>\n",
              "      <td>68</td>\n",
              "      <td>Higher Education</td>\n",
              "      <td>190.84</td>\n",
              "      <td>50.76</td>\n",
              "      <td>-68.74</td>\n",
              "      <td>-234.59</td>\n",
              "      <td>-304.36</td>\n",
              "      <td>NaN</td>\n",
              "      <td>NaN</td>\n",
              "      <td>NaN</td>\n",
              "      <td>NaN</td>\n",
              "      <td>NaN</td>\n",
              "      <td>NaN</td>\n",
              "      <td>NaN</td>\n",
              "      <td>NaN</td>\n",
              "      <td>NaN</td>\n",
              "      <td>NaN</td>\n",
              "      <td>NaN</td>\n",
              "      <td>NaN</td>\n",
              "      <td>NaN</td>\n",
              "      <td>NaN</td>\n",
              "      <td>NaN</td>\n",
              "      <td>NaN</td>\n",
              "      <td>NaN</td>\n",
              "    </tr>\n",
              "    <tr>\n",
              "      <th>5292</th>\n",
              "      <td>zw</td>\n",
              "      <td>Zimbabwe</td>\n",
              "      <td>Low income</td>\n",
              "      <td>Sub-Saharan Africa</td>\n",
              "      <td>O</td>\n",
              "      <td>Public administration and defence; compulsory ...</td>\n",
              "      <td>74</td>\n",
              "      <td>International Affairs</td>\n",
              "      <td>25.23</td>\n",
              "      <td>-46.12</td>\n",
              "      <td>214.29</td>\n",
              "      <td>311.03</td>\n",
              "      <td>-55.88</td>\n",
              "      <td>NaN</td>\n",
              "      <td>NaN</td>\n",
              "      <td>NaN</td>\n",
              "      <td>NaN</td>\n",
              "      <td>NaN</td>\n",
              "      <td>NaN</td>\n",
              "      <td>NaN</td>\n",
              "      <td>NaN</td>\n",
              "      <td>NaN</td>\n",
              "      <td>NaN</td>\n",
              "      <td>NaN</td>\n",
              "      <td>NaN</td>\n",
              "      <td>NaN</td>\n",
              "      <td>NaN</td>\n",
              "      <td>NaN</td>\n",
              "      <td>NaN</td>\n",
              "      <td>NaN</td>\n",
              "    </tr>\n",
              "    <tr>\n",
              "      <th>5293</th>\n",
              "      <td>zw</td>\n",
              "      <td>Zimbabwe</td>\n",
              "      <td>Low income</td>\n",
              "      <td>Sub-Saharan Africa</td>\n",
              "      <td>J</td>\n",
              "      <td>Information and communication</td>\n",
              "      <td>96</td>\n",
              "      <td>Information Technology &amp; Services</td>\n",
              "      <td>46.65</td>\n",
              "      <td>35.93</td>\n",
              "      <td>-142.64</td>\n",
              "      <td>-108.16</td>\n",
              "      <td>-213.82</td>\n",
              "      <td>NaN</td>\n",
              "      <td>NaN</td>\n",
              "      <td>NaN</td>\n",
              "      <td>NaN</td>\n",
              "      <td>NaN</td>\n",
              "      <td>NaN</td>\n",
              "      <td>NaN</td>\n",
              "      <td>NaN</td>\n",
              "      <td>NaN</td>\n",
              "      <td>NaN</td>\n",
              "      <td>NaN</td>\n",
              "      <td>NaN</td>\n",
              "      <td>NaN</td>\n",
              "      <td>NaN</td>\n",
              "      <td>NaN</td>\n",
              "      <td>NaN</td>\n",
              "      <td>NaN</td>\n",
              "    </tr>\n",
              "    <tr>\n",
              "      <th>5294</th>\n",
              "      <td>zw</td>\n",
              "      <td>Zimbabwe</td>\n",
              "      <td>Low income</td>\n",
              "      <td>Sub-Saharan Africa</td>\n",
              "      <td>S</td>\n",
              "      <td>Other service activities</td>\n",
              "      <td>100</td>\n",
              "      <td>Non-Profit Organization Management</td>\n",
              "      <td>133.56</td>\n",
              "      <td>88.48</td>\n",
              "      <td>6.96</td>\n",
              "      <td>-39.32</td>\n",
              "      <td>-92.51</td>\n",
              "      <td>NaN</td>\n",
              "      <td>NaN</td>\n",
              "      <td>NaN</td>\n",
              "      <td>NaN</td>\n",
              "      <td>NaN</td>\n",
              "      <td>NaN</td>\n",
              "      <td>NaN</td>\n",
              "      <td>NaN</td>\n",
              "      <td>NaN</td>\n",
              "      <td>NaN</td>\n",
              "      <td>NaN</td>\n",
              "      <td>NaN</td>\n",
              "      <td>NaN</td>\n",
              "      <td>NaN</td>\n",
              "      <td>NaN</td>\n",
              "      <td>NaN</td>\n",
              "      <td>NaN</td>\n",
              "    </tr>\n",
              "  </tbody>\n",
              "</table>\n",
              "</div>"
            ],
            "text/plain": [
              "     country_code country_name  ... Unnamed: 28 Unnamed: 29\n",
              "5290           zw     Zimbabwe  ...         NaN         NaN\n",
              "5291           zw     Zimbabwe  ...         NaN         NaN\n",
              "5292           zw     Zimbabwe  ...         NaN         NaN\n",
              "5293           zw     Zimbabwe  ...         NaN         NaN\n",
              "5294           zw     Zimbabwe  ...         NaN         NaN\n",
              "\n",
              "[5 rows x 30 columns]"
            ]
          },
          "metadata": {},
          "execution_count": 5
        }
      ]
    },
    {
      "cell_type": "code",
      "metadata": {
        "colab": {
          "base_uri": "https://localhost:8080/"
        },
        "id": "fawlW0ia87J5",
        "outputId": "909acb27-91b5-43fd-eba4-54ce3a222aa3"
      },
      "source": [
        "# Checking the missing values\n",
        "df.isnull().sum()"
      ],
      "execution_count": null,
      "outputs": [
        {
          "output_type": "execute_result",
          "data": {
            "text/plain": [
              "country_code             0\n",
              "country_name             0\n",
              "wb_income                0\n",
              "wb_region                0\n",
              "isic_section_index       0\n",
              "isic_section_name        0\n",
              "industry_id              0\n",
              "industry_name            0\n",
              "net_per_10K_2015         0\n",
              "net_per_10K_2016         0\n",
              "net_per_10K_2017         0\n",
              "net_per_10K_2018         0\n",
              "net_per_10K_2019         0\n",
              "Unnamed: 13           5295\n",
              "Unnamed: 14           5295\n",
              "Unnamed: 15           5295\n",
              "Unnamed: 16           5295\n",
              "Unnamed: 17           5295\n",
              "Unnamed: 18           5295\n",
              "Unnamed: 19           5295\n",
              "Unnamed: 20           5295\n",
              "Unnamed: 21           5295\n",
              "Unnamed: 22           5295\n",
              "Unnamed: 23           5295\n",
              "Unnamed: 24           5295\n",
              "Unnamed: 25           5295\n",
              "Unnamed: 26           5295\n",
              "Unnamed: 27           5295\n",
              "Unnamed: 28           5295\n",
              "Unnamed: 29           5295\n",
              "dtype: int64"
            ]
          },
          "metadata": {},
          "execution_count": 6
        }
      ]
    },
    {
      "cell_type": "code",
      "metadata": {
        "colab": {
          "base_uri": "https://localhost:8080/"
        },
        "id": "YMxyRiJ9JjAP",
        "outputId": "992cd208-41cf-4446-85ca-4fb507032c52"
      },
      "source": [
        "# Checking the shape of data\n",
        "df.shape"
      ],
      "execution_count": null,
      "outputs": [
        {
          "output_type": "execute_result",
          "data": {
            "text/plain": [
              "(5295, 30)"
            ]
          },
          "metadata": {},
          "execution_count": 7
        }
      ]
    },
    {
      "cell_type": "code",
      "metadata": {
        "colab": {
          "base_uri": "https://localhost:8080/"
        },
        "id": "uO9Q8F8vJmhx",
        "outputId": "0c327868-3f71-4d54-bd4c-23ddcd21e331"
      },
      "source": [
        "# Checking the data types\n",
        "df.dtypes"
      ],
      "execution_count": null,
      "outputs": [
        {
          "output_type": "execute_result",
          "data": {
            "text/plain": [
              "country_code           object\n",
              "country_name           object\n",
              "wb_income              object\n",
              "wb_region              object\n",
              "isic_section_index     object\n",
              "isic_section_name      object\n",
              "industry_id             int64\n",
              "industry_name          object\n",
              "net_per_10K_2015      float64\n",
              "net_per_10K_2016      float64\n",
              "net_per_10K_2017      float64\n",
              "net_per_10K_2018      float64\n",
              "net_per_10K_2019      float64\n",
              "Unnamed: 13           float64\n",
              "Unnamed: 14           float64\n",
              "Unnamed: 15           float64\n",
              "Unnamed: 16           float64\n",
              "Unnamed: 17           float64\n",
              "Unnamed: 18           float64\n",
              "Unnamed: 19           float64\n",
              "Unnamed: 20           float64\n",
              "Unnamed: 21           float64\n",
              "Unnamed: 22           float64\n",
              "Unnamed: 23           float64\n",
              "Unnamed: 24           float64\n",
              "Unnamed: 25           float64\n",
              "Unnamed: 26           float64\n",
              "Unnamed: 27           float64\n",
              "Unnamed: 28           float64\n",
              "Unnamed: 29           float64\n",
              "dtype: object"
            ]
          },
          "metadata": {},
          "execution_count": 8
        }
      ]
    },
    {
      "cell_type": "code",
      "metadata": {
        "colab": {
          "base_uri": "https://localhost:8080/"
        },
        "id": "bXeJTmjfJpvE",
        "outputId": "4d2f1d19-fd2a-49b1-b71c-c2a02fd0dcf0"
      },
      "source": [
        "# Extract column names\n",
        "df.columns"
      ],
      "execution_count": null,
      "outputs": [
        {
          "output_type": "execute_result",
          "data": {
            "text/plain": [
              "Index(['country_code', 'country_name', 'wb_income', 'wb_region',\n",
              "       'isic_section_index', 'isic_section_name', 'industry_id',\n",
              "       'industry_name', 'net_per_10K_2015', 'net_per_10K_2016',\n",
              "       'net_per_10K_2017', 'net_per_10K_2018', 'net_per_10K_2019',\n",
              "       'Unnamed: 13', 'Unnamed: 14', 'Unnamed: 15', 'Unnamed: 16',\n",
              "       'Unnamed: 17', 'Unnamed: 18', 'Unnamed: 19', 'Unnamed: 20',\n",
              "       'Unnamed: 21', 'Unnamed: 22', 'Unnamed: 23', 'Unnamed: 24',\n",
              "       'Unnamed: 25', 'Unnamed: 26', 'Unnamed: 27', 'Unnamed: 28',\n",
              "       'Unnamed: 29'],\n",
              "      dtype='object')"
            ]
          },
          "metadata": {},
          "execution_count": 9
        }
      ]
    },
    {
      "cell_type": "markdown",
      "metadata": {
        "id": "3UIZu92gJgW7"
      },
      "source": [
        "### Cleaning dataset"
      ]
    },
    {
      "cell_type": "code",
      "metadata": {
        "colab": {
          "base_uri": "https://localhost:8080/",
          "height": 889
        },
        "id": "jxPQBGu39GU5",
        "outputId": "d6aaf8fc-dd56-4c6c-d4f5-6331ddb62424"
      },
      "source": [
        "# Select columns 1 to 13 and drop empty columns (14 to 30).\n",
        "data = df.iloc[:,0:13]\n",
        "\n",
        "# Use head to display first ten rows\n",
        "data.head(10)"
      ],
      "execution_count": null,
      "outputs": [
        {
          "output_type": "execute_result",
          "data": {
            "text/html": [
              "<div>\n",
              "<style scoped>\n",
              "    .dataframe tbody tr th:only-of-type {\n",
              "        vertical-align: middle;\n",
              "    }\n",
              "\n",
              "    .dataframe tbody tr th {\n",
              "        vertical-align: top;\n",
              "    }\n",
              "\n",
              "    .dataframe thead th {\n",
              "        text-align: right;\n",
              "    }\n",
              "</style>\n",
              "<table border=\"1\" class=\"dataframe\">\n",
              "  <thead>\n",
              "    <tr style=\"text-align: right;\">\n",
              "      <th></th>\n",
              "      <th>country_code</th>\n",
              "      <th>country_name</th>\n",
              "      <th>wb_income</th>\n",
              "      <th>wb_region</th>\n",
              "      <th>isic_section_index</th>\n",
              "      <th>isic_section_name</th>\n",
              "      <th>industry_id</th>\n",
              "      <th>industry_name</th>\n",
              "      <th>net_per_10K_2015</th>\n",
              "      <th>net_per_10K_2016</th>\n",
              "      <th>net_per_10K_2017</th>\n",
              "      <th>net_per_10K_2018</th>\n",
              "      <th>net_per_10K_2019</th>\n",
              "    </tr>\n",
              "  </thead>\n",
              "  <tbody>\n",
              "    <tr>\n",
              "      <th>0</th>\n",
              "      <td>ae</td>\n",
              "      <td>United Arab Emirates</td>\n",
              "      <td>High income</td>\n",
              "      <td>Middle East &amp; North Africa</td>\n",
              "      <td>C</td>\n",
              "      <td>Manufacturing</td>\n",
              "      <td>1</td>\n",
              "      <td>Defense &amp; Space</td>\n",
              "      <td>378.74</td>\n",
              "      <td>127.94</td>\n",
              "      <td>8.20</td>\n",
              "      <td>68.51</td>\n",
              "      <td>49.55</td>\n",
              "    </tr>\n",
              "    <tr>\n",
              "      <th>1</th>\n",
              "      <td>ae</td>\n",
              "      <td>United Arab Emirates</td>\n",
              "      <td>High income</td>\n",
              "      <td>Middle East &amp; North Africa</td>\n",
              "      <td>J</td>\n",
              "      <td>Information and communication</td>\n",
              "      <td>3</td>\n",
              "      <td>Computer Hardware</td>\n",
              "      <td>100.97</td>\n",
              "      <td>358.14</td>\n",
              "      <td>112.98</td>\n",
              "      <td>149.57</td>\n",
              "      <td>182.22</td>\n",
              "    </tr>\n",
              "    <tr>\n",
              "      <th>2</th>\n",
              "      <td>ae</td>\n",
              "      <td>United Arab Emirates</td>\n",
              "      <td>High income</td>\n",
              "      <td>Middle East &amp; North Africa</td>\n",
              "      <td>J</td>\n",
              "      <td>Information and communication</td>\n",
              "      <td>4</td>\n",
              "      <td>Computer Software</td>\n",
              "      <td>1079.36</td>\n",
              "      <td>848.15</td>\n",
              "      <td>596.48</td>\n",
              "      <td>409.18</td>\n",
              "      <td>407.41</td>\n",
              "    </tr>\n",
              "    <tr>\n",
              "      <th>3</th>\n",
              "      <td>ae</td>\n",
              "      <td>United Arab Emirates</td>\n",
              "      <td>High income</td>\n",
              "      <td>Middle East &amp; North Africa</td>\n",
              "      <td>J</td>\n",
              "      <td>Information and communication</td>\n",
              "      <td>5</td>\n",
              "      <td>Computer Networking</td>\n",
              "      <td>401.46</td>\n",
              "      <td>447.39</td>\n",
              "      <td>163.99</td>\n",
              "      <td>236.69</td>\n",
              "      <td>188.07</td>\n",
              "    </tr>\n",
              "    <tr>\n",
              "      <th>4</th>\n",
              "      <td>ae</td>\n",
              "      <td>United Arab Emirates</td>\n",
              "      <td>High income</td>\n",
              "      <td>Middle East &amp; North Africa</td>\n",
              "      <td>J</td>\n",
              "      <td>Information and communication</td>\n",
              "      <td>6</td>\n",
              "      <td>Internet</td>\n",
              "      <td>1840.33</td>\n",
              "      <td>1368.42</td>\n",
              "      <td>877.71</td>\n",
              "      <td>852.39</td>\n",
              "      <td>519.40</td>\n",
              "    </tr>\n",
              "    <tr>\n",
              "      <th>5</th>\n",
              "      <td>ae</td>\n",
              "      <td>United Arab Emirates</td>\n",
              "      <td>High income</td>\n",
              "      <td>Middle East &amp; North Africa</td>\n",
              "      <td>J</td>\n",
              "      <td>Information and communication</td>\n",
              "      <td>8</td>\n",
              "      <td>Telecommunications</td>\n",
              "      <td>676.91</td>\n",
              "      <td>676.11</td>\n",
              "      <td>365.96</td>\n",
              "      <td>283.59</td>\n",
              "      <td>281.91</td>\n",
              "    </tr>\n",
              "    <tr>\n",
              "      <th>6</th>\n",
              "      <td>ae</td>\n",
              "      <td>United Arab Emirates</td>\n",
              "      <td>High income</td>\n",
              "      <td>Middle East &amp; North Africa</td>\n",
              "      <td>M</td>\n",
              "      <td>Professional scientific and technical activities</td>\n",
              "      <td>9</td>\n",
              "      <td>Law Practice</td>\n",
              "      <td>694.50</td>\n",
              "      <td>529.50</td>\n",
              "      <td>362.83</td>\n",
              "      <td>356.56</td>\n",
              "      <td>147.83</td>\n",
              "    </tr>\n",
              "    <tr>\n",
              "      <th>7</th>\n",
              "      <td>ae</td>\n",
              "      <td>United Arab Emirates</td>\n",
              "      <td>High income</td>\n",
              "      <td>Middle East &amp; North Africa</td>\n",
              "      <td>M</td>\n",
              "      <td>Professional scientific and technical activities</td>\n",
              "      <td>10</td>\n",
              "      <td>Legal Services</td>\n",
              "      <td>661.10</td>\n",
              "      <td>665.65</td>\n",
              "      <td>462.30</td>\n",
              "      <td>475.62</td>\n",
              "      <td>255.21</td>\n",
              "    </tr>\n",
              "    <tr>\n",
              "      <th>8</th>\n",
              "      <td>ae</td>\n",
              "      <td>United Arab Emirates</td>\n",
              "      <td>High income</td>\n",
              "      <td>Middle East &amp; North Africa</td>\n",
              "      <td>M</td>\n",
              "      <td>Professional scientific and technical activities</td>\n",
              "      <td>11</td>\n",
              "      <td>Management Consulting</td>\n",
              "      <td>982.85</td>\n",
              "      <td>694.25</td>\n",
              "      <td>520.28</td>\n",
              "      <td>574.60</td>\n",
              "      <td>406.03</td>\n",
              "    </tr>\n",
              "    <tr>\n",
              "      <th>9</th>\n",
              "      <td>ae</td>\n",
              "      <td>United Arab Emirates</td>\n",
              "      <td>High income</td>\n",
              "      <td>Middle East &amp; North Africa</td>\n",
              "      <td>M</td>\n",
              "      <td>Professional scientific and technical activities</td>\n",
              "      <td>12</td>\n",
              "      <td>Biotechnology</td>\n",
              "      <td>1230.17</td>\n",
              "      <td>846.28</td>\n",
              "      <td>500.77</td>\n",
              "      <td>205.78</td>\n",
              "      <td>513.23</td>\n",
              "    </tr>\n",
              "  </tbody>\n",
              "</table>\n",
              "</div>"
            ],
            "text/plain": [
              "  country_code          country_name  ... net_per_10K_2018 net_per_10K_2019\n",
              "0           ae  United Arab Emirates  ...            68.51            49.55\n",
              "1           ae  United Arab Emirates  ...           149.57           182.22\n",
              "2           ae  United Arab Emirates  ...           409.18           407.41\n",
              "3           ae  United Arab Emirates  ...           236.69           188.07\n",
              "4           ae  United Arab Emirates  ...           852.39           519.40\n",
              "5           ae  United Arab Emirates  ...           283.59           281.91\n",
              "6           ae  United Arab Emirates  ...           356.56           147.83\n",
              "7           ae  United Arab Emirates  ...           475.62           255.21\n",
              "8           ae  United Arab Emirates  ...           574.60           406.03\n",
              "9           ae  United Arab Emirates  ...           205.78           513.23\n",
              "\n",
              "[10 rows x 13 columns]"
            ]
          },
          "metadata": {},
          "execution_count": 11
        }
      ]
    },
    {
      "cell_type": "code",
      "metadata": {
        "colab": {
          "base_uri": "https://localhost:8080/"
        },
        "id": "MYtAW0INKJr-",
        "outputId": "f98eaf93-3853-48f7-bfe5-7268b808b2c1"
      },
      "source": [
        "# Checking the shape of data\n",
        "data.shape"
      ],
      "execution_count": null,
      "outputs": [
        {
          "output_type": "execute_result",
          "data": {
            "text/plain": [
              "(5295, 13)"
            ]
          },
          "metadata": {},
          "execution_count": 12
        }
      ]
    },
    {
      "cell_type": "code",
      "metadata": {
        "colab": {
          "base_uri": "https://localhost:8080/"
        },
        "id": "R_xW-t7-KNua",
        "outputId": "39e67cce-3af2-47a7-8f2a-c7cb423bb2a3"
      },
      "source": [
        "# Checking the missing values\n",
        "data.isnull().sum()"
      ],
      "execution_count": null,
      "outputs": [
        {
          "output_type": "execute_result",
          "data": {
            "text/plain": [
              "country_code          0\n",
              "country_name          0\n",
              "wb_income             0\n",
              "wb_region             0\n",
              "isic_section_index    0\n",
              "isic_section_name     0\n",
              "industry_id           0\n",
              "industry_name         0\n",
              "net_per_10K_2015      0\n",
              "net_per_10K_2016      0\n",
              "net_per_10K_2017      0\n",
              "net_per_10K_2018      0\n",
              "net_per_10K_2019      0\n",
              "dtype: int64"
            ]
          },
          "metadata": {},
          "execution_count": 13
        }
      ]
    },
    {
      "cell_type": "markdown",
      "metadata": {
        "id": "6Rps-6HvKRIS"
      },
      "source": [
        "### Preliminary visualization"
      ]
    },
    {
      "cell_type": "code",
      "metadata": {
        "colab": {
          "base_uri": "https://localhost:8080/",
          "height": 702
        },
        "id": "X9Iq6yAZ9rXk",
        "outputId": "1d0c69f2-3bef-4399-807a-1d3ef9dbcf06"
      },
      "source": [
        "# Distribution of net industry migration for 2015\n",
        "plt.figure(figsize=(16,10), dpi= 80)\n",
        "plt.hist(x='net_per_10K_2015', data=data, bins=25)\n",
        "\n",
        "# Decoration\n",
        "plt.xlabel('Net migration', fontsize = 15)\n",
        "plt.ylabel('Count', fontsize = 15)\n",
        "plt.title('Distribution of net industry migration for 2015', fontsize=22)\n",
        "plt.show()"
      ],
      "execution_count": null,
      "outputs": [
        {
          "output_type": "display_data",
          "data": {
            "image/png": "[encoded data removed]",
            "text/plain": [
              "<Figure size 1280x800 with 1 Axes>"
            ]
          },
          "metadata": {
            "needs_background": "light"
          }
        }
      ]
    },
    {
      "cell_type": "code",
      "metadata": {
        "colab": {
          "base_uri": "https://localhost:8080/",
          "height": 702
        },
        "id": "epmw7SkfO_Bw",
        "outputId": "2012d6f3-c2d5-43c3-b914-e2411f8e15d5"
      },
      "source": [
        "# Distribution of net industry migration for 2015\n",
        "plt.figure(figsize=(16,10), dpi= 80)\n",
        "plt.hist(x='net_per_10K_2019', data=data, bins=30)\n",
        "\n",
        "# Decoration\n",
        "plt.xlabel('Net migration', fontsize = 15)\n",
        "plt.ylabel('Count', fontsize = 15)\n",
        "plt.title('Distribution of net industry migration for 2019', fontsize=22)\n",
        "plt.show()"
      ],
      "execution_count": null,
      "outputs": [
        {
          "output_type": "display_data",
          "data": {
            "image/png": "[encoded data removed]",
            "text/plain": [
              "<Figure size 1280x800 with 1 Axes>"
            ]
          },
          "metadata": {
            "needs_background": "light"
          }
        }
      ]
    },
    {
      "cell_type": "code",
      "metadata": {
        "colab": {
          "base_uri": "https://localhost:8080/"
        },
        "id": "V8WJGbHpA-OB",
        "outputId": "36d5f5ee-9cd1-4c56-84fb-87dfa9b390b7"
      },
      "source": [
        "# Most popular industries for the given time period (2015-2019)\n",
        "top_indust = data['industry_name'].value_counts()\n",
        "top_indust"
      ],
      "execution_count": null,
      "outputs": [
        {
          "output_type": "execute_result",
          "data": {
            "text/plain": [
              "Information Technology & Services    118\n",
              "Higher Education                     114\n",
              "Telecommunications                   104\n",
              "Oil & Energy                         100\n",
              "Banking                              100\n",
              "                                    ... \n",
              "Fundraising                            4\n",
              "Legislative Office                     1\n",
              "Nanotechnology                         1\n",
              "Warehousing                            1\n",
              "Libraries                              1\n",
              "Name: industry_name, Length: 143, dtype: int64"
            ]
          },
          "metadata": {},
          "execution_count": 24
        }
      ]
    },
    {
      "cell_type": "code",
      "metadata": {
        "colab": {
          "base_uri": "https://localhost:8080/",
          "height": 864
        },
        "id": "H1Ojyei1DOVj",
        "outputId": "6151e4b5-fe2b-490a-c6d7-00784e56535e"
      },
      "source": [
        "# Filtering dataset for popular industries\n",
        "x = data[(data['industry_name'] == 'Information Technology & Services') | (data['industry_name'] == 'Higher Education') | (data['industry_name'] == 'Telecommunications') | (data['industry_name'] == 'Oil & Energy') | (data['industry_name'] == 'Banking')]\n",
        "x"
      ],
      "execution_count": null,
      "outputs": [
        {
          "output_type": "execute_result",
          "data": {
            "text/html": [
              "<div>\n",
              "<style scoped>\n",
              "    .dataframe tbody tr th:only-of-type {\n",
              "        vertical-align: middle;\n",
              "    }\n",
              "\n",
              "    .dataframe tbody tr th {\n",
              "        vertical-align: top;\n",
              "    }\n",
              "\n",
              "    .dataframe thead th {\n",
              "        text-align: right;\n",
              "    }\n",
              "</style>\n",
              "<table border=\"1\" class=\"dataframe\">\n",
              "  <thead>\n",
              "    <tr style=\"text-align: right;\">\n",
              "      <th></th>\n",
              "      <th>country_code</th>\n",
              "      <th>country_name</th>\n",
              "      <th>wb_income</th>\n",
              "      <th>wb_region</th>\n",
              "      <th>isic_section_index</th>\n",
              "      <th>isic_section_name</th>\n",
              "      <th>industry_id</th>\n",
              "      <th>industry_name</th>\n",
              "      <th>net_per_10K_2015</th>\n",
              "      <th>net_per_10K_2016</th>\n",
              "      <th>net_per_10K_2017</th>\n",
              "      <th>net_per_10K_2018</th>\n",
              "      <th>net_per_10K_2019</th>\n",
              "    </tr>\n",
              "  </thead>\n",
              "  <tbody>\n",
              "    <tr>\n",
              "      <th>5</th>\n",
              "      <td>ae</td>\n",
              "      <td>United Arab Emirates</td>\n",
              "      <td>High income</td>\n",
              "      <td>Middle East &amp; North Africa</td>\n",
              "      <td>J</td>\n",
              "      <td>Information and communication</td>\n",
              "      <td>8</td>\n",
              "      <td>Telecommunications</td>\n",
              "      <td>676.91</td>\n",
              "      <td>676.11</td>\n",
              "      <td>365.96</td>\n",
              "      <td>283.59</td>\n",
              "      <td>281.91</td>\n",
              "    </tr>\n",
              "    <tr>\n",
              "      <th>32</th>\n",
              "      <td>ae</td>\n",
              "      <td>United Arab Emirates</td>\n",
              "      <td>High income</td>\n",
              "      <td>Middle East &amp; North Africa</td>\n",
              "      <td>K</td>\n",
              "      <td>Financial and insurance activities</td>\n",
              "      <td>41</td>\n",
              "      <td>Banking</td>\n",
              "      <td>643.59</td>\n",
              "      <td>331.78</td>\n",
              "      <td>187.54</td>\n",
              "      <td>192.42</td>\n",
              "      <td>168.36</td>\n",
              "    </tr>\n",
              "    <tr>\n",
              "      <th>48</th>\n",
              "      <td>ae</td>\n",
              "      <td>United Arab Emirates</td>\n",
              "      <td>High income</td>\n",
              "      <td>Middle East &amp; North Africa</td>\n",
              "      <td>B</td>\n",
              "      <td>Mining and quarrying</td>\n",
              "      <td>57</td>\n",
              "      <td>Oil &amp; Energy</td>\n",
              "      <td>355.69</td>\n",
              "      <td>220.61</td>\n",
              "      <td>90.59</td>\n",
              "      <td>97.06</td>\n",
              "      <td>196.49</td>\n",
              "    </tr>\n",
              "    <tr>\n",
              "      <th>55</th>\n",
              "      <td>ae</td>\n",
              "      <td>United Arab Emirates</td>\n",
              "      <td>High income</td>\n",
              "      <td>Middle East &amp; North Africa</td>\n",
              "      <td>P</td>\n",
              "      <td>Education</td>\n",
              "      <td>68</td>\n",
              "      <td>Higher Education</td>\n",
              "      <td>395.56</td>\n",
              "      <td>326.41</td>\n",
              "      <td>50.20</td>\n",
              "      <td>-6.11</td>\n",
              "      <td>-25.98</td>\n",
              "    </tr>\n",
              "    <tr>\n",
              "      <th>76</th>\n",
              "      <td>ae</td>\n",
              "      <td>United Arab Emirates</td>\n",
              "      <td>High income</td>\n",
              "      <td>Middle East &amp; North Africa</td>\n",
              "      <td>J</td>\n",
              "      <td>Information and communication</td>\n",
              "      <td>96</td>\n",
              "      <td>Information Technology &amp; Services</td>\n",
              "      <td>1028.60</td>\n",
              "      <td>785.44</td>\n",
              "      <td>564.45</td>\n",
              "      <td>559.16</td>\n",
              "      <td>482.89</td>\n",
              "    </tr>\n",
              "    <tr>\n",
              "      <th>...</th>\n",
              "      <td>...</td>\n",
              "      <td>...</td>\n",
              "      <td>...</td>\n",
              "      <td>...</td>\n",
              "      <td>...</td>\n",
              "      <td>...</td>\n",
              "      <td>...</td>\n",
              "      <td>...</td>\n",
              "      <td>...</td>\n",
              "      <td>...</td>\n",
              "      <td>...</td>\n",
              "      <td>...</td>\n",
              "      <td>...</td>\n",
              "    </tr>\n",
              "    <tr>\n",
              "      <th>5279</th>\n",
              "      <td>zm</td>\n",
              "      <td>Zambia</td>\n",
              "      <td>Lower middle income</td>\n",
              "      <td>Sub-Saharan Africa</td>\n",
              "      <td>P</td>\n",
              "      <td>Education</td>\n",
              "      <td>68</td>\n",
              "      <td>Higher Education</td>\n",
              "      <td>380.38</td>\n",
              "      <td>367.27</td>\n",
              "      <td>22.99</td>\n",
              "      <td>-42.29</td>\n",
              "      <td>-6.46</td>\n",
              "    </tr>\n",
              "    <tr>\n",
              "      <th>5281</th>\n",
              "      <td>zm</td>\n",
              "      <td>Zambia</td>\n",
              "      <td>Lower middle income</td>\n",
              "      <td>Sub-Saharan Africa</td>\n",
              "      <td>J</td>\n",
              "      <td>Information and communication</td>\n",
              "      <td>96</td>\n",
              "      <td>Information Technology &amp; Services</td>\n",
              "      <td>306.21</td>\n",
              "      <td>352.50</td>\n",
              "      <td>109.52</td>\n",
              "      <td>73.09</td>\n",
              "      <td>15.31</td>\n",
              "    </tr>\n",
              "    <tr>\n",
              "      <th>5284</th>\n",
              "      <td>zw</td>\n",
              "      <td>Zimbabwe</td>\n",
              "      <td>Low income</td>\n",
              "      <td>Sub-Saharan Africa</td>\n",
              "      <td>J</td>\n",
              "      <td>Information and communication</td>\n",
              "      <td>8</td>\n",
              "      <td>Telecommunications</td>\n",
              "      <td>72.86</td>\n",
              "      <td>-27.76</td>\n",
              "      <td>-54.13</td>\n",
              "      <td>-65.80</td>\n",
              "      <td>-86.04</td>\n",
              "    </tr>\n",
              "    <tr>\n",
              "      <th>5291</th>\n",
              "      <td>zw</td>\n",
              "      <td>Zimbabwe</td>\n",
              "      <td>Low income</td>\n",
              "      <td>Sub-Saharan Africa</td>\n",
              "      <td>P</td>\n",
              "      <td>Education</td>\n",
              "      <td>68</td>\n",
              "      <td>Higher Education</td>\n",
              "      <td>190.84</td>\n",
              "      <td>50.76</td>\n",
              "      <td>-68.74</td>\n",
              "      <td>-234.59</td>\n",
              "      <td>-304.36</td>\n",
              "    </tr>\n",
              "    <tr>\n",
              "      <th>5293</th>\n",
              "      <td>zw</td>\n",
              "      <td>Zimbabwe</td>\n",
              "      <td>Low income</td>\n",
              "      <td>Sub-Saharan Africa</td>\n",
              "      <td>J</td>\n",
              "      <td>Information and communication</td>\n",
              "      <td>96</td>\n",
              "      <td>Information Technology &amp; Services</td>\n",
              "      <td>46.65</td>\n",
              "      <td>35.93</td>\n",
              "      <td>-142.64</td>\n",
              "      <td>-108.16</td>\n",
              "      <td>-213.82</td>\n",
              "    </tr>\n",
              "  </tbody>\n",
              "</table>\n",
              "<p>536 rows × 13 columns</p>\n",
              "</div>"
            ],
            "text/plain": [
              "     country_code          country_name  ... net_per_10K_2018 net_per_10K_2019\n",
              "5              ae  United Arab Emirates  ...           283.59           281.91\n",
              "32             ae  United Arab Emirates  ...           192.42           168.36\n",
              "48             ae  United Arab Emirates  ...            97.06           196.49\n",
              "55             ae  United Arab Emirates  ...            -6.11           -25.98\n",
              "76             ae  United Arab Emirates  ...           559.16           482.89\n",
              "...           ...                   ...  ...              ...              ...\n",
              "5279           zm                Zambia  ...           -42.29            -6.46\n",
              "5281           zm                Zambia  ...            73.09            15.31\n",
              "5284           zw              Zimbabwe  ...           -65.80           -86.04\n",
              "5291           zw              Zimbabwe  ...          -234.59          -304.36\n",
              "5293           zw              Zimbabwe  ...          -108.16          -213.82\n",
              "\n",
              "[536 rows x 13 columns]"
            ]
          },
          "metadata": {},
          "execution_count": 18
        }
      ]
    },
    {
      "cell_type": "code",
      "metadata": {
        "colab": {
          "base_uri": "https://localhost:8080/",
          "height": 708
        },
        "id": "09GIHgMFBxK7",
        "outputId": "8efe3170-937c-4453-c109-6e22bc4e5c10"
      },
      "source": [
        "# Distribution of net migration for most popular industries in 2015 \n",
        "plt.figure(figsize=(16,10), dpi= 80)\n",
        "sns.boxplot(x = 'industry_name', y = 'net_per_10K_2015', data = x, whis=10)\n",
        "\n",
        "# Decoration\n",
        "plt.xlabel('Industry', fontsize = 22)\n",
        "plt.ylabel('Net migration per 10K in 2015', fontsize = 22)\n",
        "plt.title('Net migration for most popular industries in 2015', fontsize = 22)\n",
        "plt.show()"
      ],
      "execution_count": null,
      "outputs": [
        {
          "output_type": "display_data",
          "data": {
            "image/png": "[encoded data removed]",
            "text/plain": [
              "<Figure size 1280x800 with 1 Axes>"
            ]
          },
          "metadata": {
            "needs_background": "light"
          }
        }
      ]
    },
    {
      "cell_type": "code",
      "metadata": {
        "colab": {
          "base_uri": "https://localhost:8080/",
          "height": 708
        },
        "id": "MAlhR0o4ScjT",
        "outputId": "28427eaa-f4ff-4b31-b020-d172b1e008c1"
      },
      "source": [
        "# Distribution of net migration for most popular industries in 2019 \n",
        "plt.figure(figsize=(16,10), dpi= 80)\n",
        "sns.boxplot(x = 'industry_name', y = 'net_per_10K_2019', data = x, whis=10)\n",
        "\n",
        "# Decoration\n",
        "plt.xlabel('Industry', fontsize = 22)\n",
        "plt.ylabel('Net migration per 10K in 2019', fontsize = 22)\n",
        "plt.title('Net migration for most popular industries in 2019', fontsize = 22)\n",
        "plt.show()"
      ],
      "execution_count": null,
      "outputs": [
        {
          "output_type": "display_data",
          "data": {
            "image/png": "[encoded data removed]",
            "text/plain": [
              "<Figure size 1280x800 with 1 Axes>"
            ]
          },
          "metadata": {
            "needs_background": "light"
          }
        }
      ]
    }
  ]
}