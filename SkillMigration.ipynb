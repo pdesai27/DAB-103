{
  "nbformat": 4,
  "nbformat_minor": 0,
  "metadata": {
    "colab": {
      "name": "SkillMigration.ipynb",
      "provenance": [],
      "mount_file_id": "1xagMkEaJucncGdTmBWuDg3jkNUWb69Qc",
      "authorship_tag": "ABX9TyM9hA58DfmhF9o/OlCHvhgu",
      "include_colab_link": true
    },
    "kernelspec": {
      "name": "python3",
      "display_name": "Python 3"
    },
    "language_info": {
      "name": "python"
    }
  },
  "cells": [
    {
      "cell_type": "markdown",
      "metadata": {
        "id": "view-in-github",
        "colab_type": "text"
      },
      "source": [
        "<a href=\"https://colab.research.google.com/github/pdesai27/DAB-103/blob/main/SkillMigration.ipynb\" target=\"_parent\"><img src=\"https://colab.research.google.com/assets/colab-badge.svg\" alt=\"Open In Colab\"/></a>"
      ]
    },
    {
      "cell_type": "code",
      "metadata": {
        "id": "a0wF8fLYFZfb"
      },
      "source": [
        "import pandas as pd\n",
        "import numpy as np\n",
        "import matplotlib.pyplot as plt\n",
        "import seaborn as sns"
      ],
      "execution_count": null,
      "outputs": []
    },
    {
      "cell_type": "code",
      "metadata": {
        "id": "iAo7QS0tICAk"
      },
      "source": [
        "df = pd.read_csv(\"https://raw.githubusercontent.com/pdesai27/DAB-103/main/Data/CSV_%20Skill%20Migration.csv\")"
      ],
      "execution_count": null,
      "outputs": []
    },
    {
      "cell_type": "code",
      "metadata": {
        "colab": {
          "base_uri": "https://localhost:8080/",
          "height": 241
        },
        "id": "7RTAfoJtIOKI",
        "outputId": "b40b5be9-ff4a-4c64-d97b-0914fb75fd56"
      },
      "source": [
        "df.head(5)\n",
        "df.tail(5)"
      ],
      "execution_count": null,
      "outputs": [
        {
          "output_type": "execute_result",
          "data": {
            "text/html": [
              "<div>\n",
              "<style scoped>\n",
              "    .dataframe tbody tr th:only-of-type {\n",
              "        vertical-align: middle;\n",
              "    }\n",
              "\n",
              "    .dataframe tbody tr th {\n",
              "        vertical-align: top;\n",
              "    }\n",
              "\n",
              "    .dataframe thead th {\n",
              "        text-align: right;\n",
              "    }\n",
              "</style>\n",
              "<table border=\"1\" class=\"dataframe\">\n",
              "  <thead>\n",
              "    <tr style=\"text-align: right;\">\n",
              "      <th></th>\n",
              "      <th>country_code</th>\n",
              "      <th>country_name</th>\n",
              "      <th>wb_income</th>\n",
              "      <th>wb_region</th>\n",
              "      <th>skill_group_id</th>\n",
              "      <th>skill_group_category</th>\n",
              "      <th>skill_group_name</th>\n",
              "      <th>net_per_10K_2015</th>\n",
              "      <th>net_per_10K_2016</th>\n",
              "      <th>net_per_10K_2017</th>\n",
              "      <th>net_per_10K_2018</th>\n",
              "      <th>net_per_10K_2019</th>\n",
              "      <th>Unnamed: 12</th>\n",
              "      <th>Unnamed: 13</th>\n",
              "      <th>Unnamed: 14</th>\n",
              "      <th>Unnamed: 15</th>\n",
              "      <th>Unnamed: 16</th>\n",
              "      <th>Unnamed: 17</th>\n",
              "      <th>Unnamed: 18</th>\n",
              "      <th>Unnamed: 19</th>\n",
              "      <th>Unnamed: 20</th>\n",
              "      <th>Unnamed: 21</th>\n",
              "      <th>Unnamed: 22</th>\n",
              "      <th>Unnamed: 23</th>\n",
              "      <th>Unnamed: 24</th>\n",
              "      <th>Unnamed: 25</th>\n",
              "      <th>Unnamed: 26</th>\n",
              "      <th>Unnamed: 27</th>\n",
              "      <th>Unnamed: 28</th>\n",
              "    </tr>\n",
              "  </thead>\n",
              "  <tbody>\n",
              "    <tr>\n",
              "      <th>20642</th>\n",
              "      <td>NaN</td>\n",
              "      <td>NaN</td>\n",
              "      <td>NaN</td>\n",
              "      <td>NaN</td>\n",
              "      <td>NaN</td>\n",
              "      <td>NaN</td>\n",
              "      <td>NaN</td>\n",
              "      <td>NaN</td>\n",
              "      <td>NaN</td>\n",
              "      <td>NaN</td>\n",
              "      <td>NaN</td>\n",
              "      <td>NaN</td>\n",
              "      <td>NaN</td>\n",
              "      <td>NaN</td>\n",
              "      <td>NaN</td>\n",
              "      <td>NaN</td>\n",
              "      <td>NaN</td>\n",
              "      <td>NaN</td>\n",
              "      <td>NaN</td>\n",
              "      <td>NaN</td>\n",
              "      <td>NaN</td>\n",
              "      <td>NaN</td>\n",
              "      <td>NaN</td>\n",
              "      <td>NaN</td>\n",
              "      <td>NaN</td>\n",
              "      <td>NaN</td>\n",
              "      <td>NaN</td>\n",
              "      <td>NaN</td>\n",
              "      <td>NaN</td>\n",
              "    </tr>\n",
              "    <tr>\n",
              "      <th>20643</th>\n",
              "      <td>NaN</td>\n",
              "      <td>NaN</td>\n",
              "      <td>NaN</td>\n",
              "      <td>NaN</td>\n",
              "      <td>NaN</td>\n",
              "      <td>NaN</td>\n",
              "      <td>NaN</td>\n",
              "      <td>NaN</td>\n",
              "      <td>NaN</td>\n",
              "      <td>NaN</td>\n",
              "      <td>NaN</td>\n",
              "      <td>NaN</td>\n",
              "      <td>NaN</td>\n",
              "      <td>NaN</td>\n",
              "      <td>NaN</td>\n",
              "      <td>NaN</td>\n",
              "      <td>NaN</td>\n",
              "      <td>NaN</td>\n",
              "      <td>NaN</td>\n",
              "      <td>NaN</td>\n",
              "      <td>NaN</td>\n",
              "      <td>NaN</td>\n",
              "      <td>NaN</td>\n",
              "      <td>NaN</td>\n",
              "      <td>NaN</td>\n",
              "      <td>NaN</td>\n",
              "      <td>NaN</td>\n",
              "      <td>NaN</td>\n",
              "      <td>NaN</td>\n",
              "    </tr>\n",
              "    <tr>\n",
              "      <th>20644</th>\n",
              "      <td>NaN</td>\n",
              "      <td>NaN</td>\n",
              "      <td>NaN</td>\n",
              "      <td>NaN</td>\n",
              "      <td>NaN</td>\n",
              "      <td>NaN</td>\n",
              "      <td>NaN</td>\n",
              "      <td>NaN</td>\n",
              "      <td>NaN</td>\n",
              "      <td>NaN</td>\n",
              "      <td>NaN</td>\n",
              "      <td>NaN</td>\n",
              "      <td>NaN</td>\n",
              "      <td>NaN</td>\n",
              "      <td>NaN</td>\n",
              "      <td>NaN</td>\n",
              "      <td>NaN</td>\n",
              "      <td>NaN</td>\n",
              "      <td>NaN</td>\n",
              "      <td>NaN</td>\n",
              "      <td>NaN</td>\n",
              "      <td>NaN</td>\n",
              "      <td>NaN</td>\n",
              "      <td>NaN</td>\n",
              "      <td>NaN</td>\n",
              "      <td>NaN</td>\n",
              "      <td>NaN</td>\n",
              "      <td>NaN</td>\n",
              "      <td>NaN</td>\n",
              "    </tr>\n",
              "    <tr>\n",
              "      <th>20645</th>\n",
              "      <td>NaN</td>\n",
              "      <td>NaN</td>\n",
              "      <td>NaN</td>\n",
              "      <td>NaN</td>\n",
              "      <td>NaN</td>\n",
              "      <td>NaN</td>\n",
              "      <td>NaN</td>\n",
              "      <td>NaN</td>\n",
              "      <td>NaN</td>\n",
              "      <td>NaN</td>\n",
              "      <td>NaN</td>\n",
              "      <td>NaN</td>\n",
              "      <td>NaN</td>\n",
              "      <td>NaN</td>\n",
              "      <td>NaN</td>\n",
              "      <td>NaN</td>\n",
              "      <td>NaN</td>\n",
              "      <td>NaN</td>\n",
              "      <td>NaN</td>\n",
              "      <td>NaN</td>\n",
              "      <td>NaN</td>\n",
              "      <td>NaN</td>\n",
              "      <td>NaN</td>\n",
              "      <td>NaN</td>\n",
              "      <td>NaN</td>\n",
              "      <td>NaN</td>\n",
              "      <td>NaN</td>\n",
              "      <td>NaN</td>\n",
              "      <td>NaN</td>\n",
              "    </tr>\n",
              "    <tr>\n",
              "      <th>20646</th>\n",
              "      <td>NaN</td>\n",
              "      <td>NaN</td>\n",
              "      <td>NaN</td>\n",
              "      <td>NaN</td>\n",
              "      <td>NaN</td>\n",
              "      <td>NaN</td>\n",
              "      <td>NaN</td>\n",
              "      <td>NaN</td>\n",
              "      <td>NaN</td>\n",
              "      <td>NaN</td>\n",
              "      <td>NaN</td>\n",
              "      <td>NaN</td>\n",
              "      <td>NaN</td>\n",
              "      <td>NaN</td>\n",
              "      <td>NaN</td>\n",
              "      <td>NaN</td>\n",
              "      <td>NaN</td>\n",
              "      <td>NaN</td>\n",
              "      <td>NaN</td>\n",
              "      <td>NaN</td>\n",
              "      <td>NaN</td>\n",
              "      <td>NaN</td>\n",
              "      <td>NaN</td>\n",
              "      <td>NaN</td>\n",
              "      <td>NaN</td>\n",
              "      <td>NaN</td>\n",
              "      <td>NaN</td>\n",
              "      <td>NaN</td>\n",
              "      <td>NaN</td>\n",
              "    </tr>\n",
              "  </tbody>\n",
              "</table>\n",
              "</div>"
            ],
            "text/plain": [
              "      country_code country_name  ... Unnamed: 27 Unnamed: 28\n",
              "20642          NaN          NaN  ...         NaN         NaN\n",
              "20643          NaN          NaN  ...         NaN         NaN\n",
              "20644          NaN          NaN  ...         NaN         NaN\n",
              "20645          NaN          NaN  ...         NaN         NaN\n",
              "20646          NaN          NaN  ...         NaN         NaN\n",
              "\n",
              "[5 rows x 29 columns]"
            ]
          },
          "metadata": {},
          "execution_count": 6
        }
      ]
    },
    {
      "cell_type": "code",
      "metadata": {
        "colab": {
          "base_uri": "https://localhost:8080/"
        },
        "id": "ayoWPUfGITcM",
        "outputId": "b7d1b63d-c133-4741-84dc-3acf4b0ccc94"
      },
      "source": [
        "# Checking the missing values\n",
        "df.info()\n",
        "df.isnull().sum()\n",
        "\n",
        "# Checking the shape of data\n",
        "df.shape\n",
        "\n",
        "# Checking the data types\n",
        "df.dtypes"
      ],
      "execution_count": null,
      "outputs": [
        {
          "output_type": "stream",
          "name": "stdout",
          "text": [
            "<class 'pandas.core.frame.DataFrame'>\n",
            "RangeIndex: 20647 entries, 0 to 20646\n",
            "Data columns (total 29 columns):\n",
            " #   Column                Non-Null Count  Dtype  \n",
            "---  ------                --------------  -----  \n",
            " 0   country_code          17617 non-null  object \n",
            " 1   country_name          17617 non-null  object \n",
            " 2   wb_income             17617 non-null  object \n",
            " 3   wb_region             17617 non-null  object \n",
            " 4   skill_group_id        17617 non-null  float64\n",
            " 5   skill_group_category  17617 non-null  object \n",
            " 6   skill_group_name      17617 non-null  object \n",
            " 7   net_per_10K_2015      17617 non-null  float64\n",
            " 8   net_per_10K_2016      17617 non-null  float64\n",
            " 9   net_per_10K_2017      17617 non-null  float64\n",
            " 10  net_per_10K_2018      17617 non-null  float64\n",
            " 11  net_per_10K_2019      17617 non-null  float64\n",
            " 12  Unnamed: 12           0 non-null      float64\n",
            " 13  Unnamed: 13           0 non-null      float64\n",
            " 14  Unnamed: 14           0 non-null      float64\n",
            " 15  Unnamed: 15           0 non-null      float64\n",
            " 16  Unnamed: 16           0 non-null      float64\n",
            " 17  Unnamed: 17           0 non-null      float64\n",
            " 18  Unnamed: 18           0 non-null      float64\n",
            " 19  Unnamed: 19           0 non-null      float64\n",
            " 20  Unnamed: 20           0 non-null      float64\n",
            " 21  Unnamed: 21           0 non-null      float64\n",
            " 22  Unnamed: 22           0 non-null      float64\n",
            " 23  Unnamed: 23           0 non-null      float64\n",
            " 24  Unnamed: 24           0 non-null      float64\n",
            " 25  Unnamed: 25           0 non-null      float64\n",
            " 26  Unnamed: 26           0 non-null      float64\n",
            " 27  Unnamed: 27           0 non-null      float64\n",
            " 28  Unnamed: 28           0 non-null      float64\n",
            "dtypes: float64(23), object(6)\n",
            "memory usage: 4.6+ MB\n"
          ]
        },
        {
          "output_type": "execute_result",
          "data": {
            "text/plain": [
              "country_code             object\n",
              "country_name             object\n",
              "wb_income                object\n",
              "wb_region                object\n",
              "skill_group_id          float64\n",
              "skill_group_category     object\n",
              "skill_group_name         object\n",
              "net_per_10K_2015        float64\n",
              "net_per_10K_2016        float64\n",
              "net_per_10K_2017        float64\n",
              "net_per_10K_2018        float64\n",
              "net_per_10K_2019        float64\n",
              "Unnamed: 12             float64\n",
              "Unnamed: 13             float64\n",
              "Unnamed: 14             float64\n",
              "Unnamed: 15             float64\n",
              "Unnamed: 16             float64\n",
              "Unnamed: 17             float64\n",
              "Unnamed: 18             float64\n",
              "Unnamed: 19             float64\n",
              "Unnamed: 20             float64\n",
              "Unnamed: 21             float64\n",
              "Unnamed: 22             float64\n",
              "Unnamed: 23             float64\n",
              "Unnamed: 24             float64\n",
              "Unnamed: 25             float64\n",
              "Unnamed: 26             float64\n",
              "Unnamed: 27             float64\n",
              "Unnamed: 28             float64\n",
              "dtype: object"
            ]
          },
          "metadata": {},
          "execution_count": 11
        }
      ]
    },
    {
      "cell_type": "code",
      "metadata": {
        "colab": {
          "base_uri": "https://localhost:8080/"
        },
        "id": "2uhAGxzQI_Sx",
        "outputId": "3e8aa512-4b91-44e2-a350-115830801897"
      },
      "source": [
        "# Selecting required columns. Drop empty columns from 18 to 26.\n",
        "data = df.iloc[0:17618,0:12]\n",
        "\n",
        "# Checking the shape of data\n",
        "data.shape\n",
        "data.columns\n",
        "\n",
        "# Describing the data\n",
        "data.describe()\n",
        "data.describe(include='all')"
      ],
      "execution_count": null,
      "outputs": [
        {
          "output_type": "execute_result",
          "data": {
            "text/plain": [
              "(17618, 12)"
            ]
          },
          "metadata": {},
          "execution_count": 14
        }
      ]
    },
    {
      "cell_type": "code",
      "metadata": {
        "id": "GJYtQ6u-JTF0",
        "colab": {
          "base_uri": "https://localhost:8080/",
          "height": 702
        },
        "outputId": "1666426e-7ee0-4222-80ed-9cf72fb441f7"
      },
      "source": [
        "# Distribution of net migration for 2015\n",
        "plt.figure(figsize=(16,10), dpi= 80)\n",
        "plt.hist(x='net_per_10K_2015', data=data, bins=25)\n",
        "#plt.xlim(-50,50)\n",
        "\n",
        "\n",
        "# Decoration\n",
        "plt.xlabel('Net migration', fontsize = 15)\n",
        "plt.ylabel('Count', fontsize = 15)\n",
        "plt.title('Distribution of net migration for 2015', fontsize=22)\n",
        "plt.show()"
      ],
      "execution_count": null,
      "outputs": [
        {
          "output_type": "display_data",
          "data": {
            "image/png": "[encoded data removed]",
            "text/plain": [
              "<Figure size 1280x800 with 1 Axes>"
            ]
          },
          "metadata": {
            "needs_background": "light"
          }
        }
      ]
    }
  ]
}
